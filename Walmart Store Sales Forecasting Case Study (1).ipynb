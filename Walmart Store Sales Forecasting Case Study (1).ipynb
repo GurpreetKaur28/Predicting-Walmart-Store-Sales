{
 "cells": [
  {
   "cell_type": "code",
   "execution_count": 1,
   "metadata": {},
   "outputs": [],
   "source": [
    "import pandas as pd\n",
    "import numpy as np\n",
    "\n",
    "import matplotlib.pyplot as plt\n",
    "import seaborn as sn\n",
    "\n",
    "# parameters\n",
    "plt.rcParams['figure.figsize'] = 10, 7.5\n",
    "plt.rcParams['axes.grid'] = False\n",
    "\n",
    "# warnings\n",
    "import warnings\n",
    "warnings.filterwarnings('ignore')"
   ]
  },
  {
   "cell_type": "code",
   "execution_count": 3,
   "metadata": {},
   "outputs": [],
   "source": [
    "stores=pd.read_csv(\"C:\\\\Users\\\\tavleen kaur\\\\Desktop\\\\0b. Assignments & Case Studies\\\\New folder (2)\\\\Walmart Store Sales Forecasting\\\\stores.csv\")\n",
    "train=pd.read_csv(\"C:\\\\Users\\\\tavleen kaur\\\\Desktop\\\\0b. Assignments & Case Studies\\\\New folder (2)\\\\Walmart Store Sales Forecasting\\\\train.csv\")\n",
    "t=pd.read_csv(\"C:\\\\Users\\\\tavleen kaur\\\\Desktop\\\\0b. Assignments & Case Studies\\\\New folder (2)\\\\Walmart Store Sales Forecasting\\\\test.csv\")\n",
    "features=pd.read_csv(\"C:\\\\Users\\\\tavleen kaur\\\\Desktop\\\\0b. Assignments & Case Studies\\\\New folder (2)\\\\Walmart Store Sales Forecasting\\\\features.csv\")"
   ]
  },
  {
   "cell_type": "markdown",
   "metadata": {},
   "source": [
    "## DATA AUDIT"
   ]
  },
  {
   "cell_type": "code",
   "execution_count": 4,
   "metadata": {},
   "outputs": [
    {
     "data": {
      "text/html": [
       "<div>\n",
       "<style scoped>\n",
       "    .dataframe tbody tr th:only-of-type {\n",
       "        vertical-align: middle;\n",
       "    }\n",
       "\n",
       "    .dataframe tbody tr th {\n",
       "        vertical-align: top;\n",
       "    }\n",
       "\n",
       "    .dataframe thead th {\n",
       "        text-align: right;\n",
       "    }\n",
       "</style>\n",
       "<table border=\"1\" class=\"dataframe\">\n",
       "  <thead>\n",
       "    <tr style=\"text-align: right;\">\n",
       "      <th></th>\n",
       "      <th>Store</th>\n",
       "      <th>Type</th>\n",
       "      <th>Size</th>\n",
       "    </tr>\n",
       "  </thead>\n",
       "  <tbody>\n",
       "    <tr>\n",
       "      <th>0</th>\n",
       "      <td>1</td>\n",
       "      <td>A</td>\n",
       "      <td>151315</td>\n",
       "    </tr>\n",
       "    <tr>\n",
       "      <th>1</th>\n",
       "      <td>2</td>\n",
       "      <td>A</td>\n",
       "      <td>202307</td>\n",
       "    </tr>\n",
       "    <tr>\n",
       "      <th>2</th>\n",
       "      <td>3</td>\n",
       "      <td>B</td>\n",
       "      <td>37392</td>\n",
       "    </tr>\n",
       "    <tr>\n",
       "      <th>3</th>\n",
       "      <td>4</td>\n",
       "      <td>A</td>\n",
       "      <td>205863</td>\n",
       "    </tr>\n",
       "    <tr>\n",
       "      <th>4</th>\n",
       "      <td>5</td>\n",
       "      <td>B</td>\n",
       "      <td>34875</td>\n",
       "    </tr>\n",
       "  </tbody>\n",
       "</table>\n",
       "</div>"
      ],
      "text/plain": [
       "   Store Type    Size\n",
       "0      1    A  151315\n",
       "1      2    A  202307\n",
       "2      3    B   37392\n",
       "3      4    A  205863\n",
       "4      5    B   34875"
      ]
     },
     "execution_count": 4,
     "metadata": {},
     "output_type": "execute_result"
    }
   ],
   "source": [
    "stores.head()"
   ]
  },
  {
   "cell_type": "code",
   "execution_count": 5,
   "metadata": {},
   "outputs": [
    {
     "data": {
      "text/plain": [
       "(45, 3)"
      ]
     },
     "execution_count": 5,
     "metadata": {},
     "output_type": "execute_result"
    }
   ],
   "source": [
    "stores.shape"
   ]
  },
  {
   "cell_type": "code",
   "execution_count": 6,
   "metadata": {},
   "outputs": [
    {
     "data": {
      "text/html": [
       "<div>\n",
       "<style scoped>\n",
       "    .dataframe tbody tr th:only-of-type {\n",
       "        vertical-align: middle;\n",
       "    }\n",
       "\n",
       "    .dataframe tbody tr th {\n",
       "        vertical-align: top;\n",
       "    }\n",
       "\n",
       "    .dataframe thead th {\n",
       "        text-align: right;\n",
       "    }\n",
       "</style>\n",
       "<table border=\"1\" class=\"dataframe\">\n",
       "  <thead>\n",
       "    <tr style=\"text-align: right;\">\n",
       "      <th></th>\n",
       "      <th>Store</th>\n",
       "      <th>Dept</th>\n",
       "      <th>Date</th>\n",
       "      <th>Weekly_Sales</th>\n",
       "      <th>IsHoliday</th>\n",
       "    </tr>\n",
       "  </thead>\n",
       "  <tbody>\n",
       "    <tr>\n",
       "      <th>0</th>\n",
       "      <td>1</td>\n",
       "      <td>1</td>\n",
       "      <td>2010-02-05</td>\n",
       "      <td>24924.50</td>\n",
       "      <td>False</td>\n",
       "    </tr>\n",
       "    <tr>\n",
       "      <th>1</th>\n",
       "      <td>1</td>\n",
       "      <td>1</td>\n",
       "      <td>2010-02-12</td>\n",
       "      <td>46039.49</td>\n",
       "      <td>True</td>\n",
       "    </tr>\n",
       "    <tr>\n",
       "      <th>2</th>\n",
       "      <td>1</td>\n",
       "      <td>1</td>\n",
       "      <td>2010-02-19</td>\n",
       "      <td>41595.55</td>\n",
       "      <td>False</td>\n",
       "    </tr>\n",
       "    <tr>\n",
       "      <th>3</th>\n",
       "      <td>1</td>\n",
       "      <td>1</td>\n",
       "      <td>2010-02-26</td>\n",
       "      <td>19403.54</td>\n",
       "      <td>False</td>\n",
       "    </tr>\n",
       "    <tr>\n",
       "      <th>4</th>\n",
       "      <td>1</td>\n",
       "      <td>1</td>\n",
       "      <td>2010-03-05</td>\n",
       "      <td>21827.90</td>\n",
       "      <td>False</td>\n",
       "    </tr>\n",
       "  </tbody>\n",
       "</table>\n",
       "</div>"
      ],
      "text/plain": [
       "   Store  Dept        Date  Weekly_Sales  IsHoliday\n",
       "0      1     1  2010-02-05      24924.50      False\n",
       "1      1     1  2010-02-12      46039.49       True\n",
       "2      1     1  2010-02-19      41595.55      False\n",
       "3      1     1  2010-02-26      19403.54      False\n",
       "4      1     1  2010-03-05      21827.90      False"
      ]
     },
     "execution_count": 6,
     "metadata": {},
     "output_type": "execute_result"
    }
   ],
   "source": [
    "train.head()"
   ]
  },
  {
   "cell_type": "code",
   "execution_count": 7,
   "metadata": {},
   "outputs": [
    {
     "data": {
      "text/plain": [
       "(421570, 5)"
      ]
     },
     "execution_count": 7,
     "metadata": {},
     "output_type": "execute_result"
    }
   ],
   "source": [
    "train.shape"
   ]
  },
  {
   "cell_type": "code",
   "execution_count": 8,
   "metadata": {},
   "outputs": [
    {
     "data": {
      "text/html": [
       "<div>\n",
       "<style scoped>\n",
       "    .dataframe tbody tr th:only-of-type {\n",
       "        vertical-align: middle;\n",
       "    }\n",
       "\n",
       "    .dataframe tbody tr th {\n",
       "        vertical-align: top;\n",
       "    }\n",
       "\n",
       "    .dataframe thead th {\n",
       "        text-align: right;\n",
       "    }\n",
       "</style>\n",
       "<table border=\"1\" class=\"dataframe\">\n",
       "  <thead>\n",
       "    <tr style=\"text-align: right;\">\n",
       "      <th></th>\n",
       "      <th>Store</th>\n",
       "      <th>Date</th>\n",
       "      <th>Temperature</th>\n",
       "      <th>Fuel_Price</th>\n",
       "      <th>MarkDown1</th>\n",
       "      <th>MarkDown2</th>\n",
       "      <th>MarkDown3</th>\n",
       "      <th>MarkDown4</th>\n",
       "      <th>MarkDown5</th>\n",
       "      <th>CPI</th>\n",
       "      <th>Unemployment</th>\n",
       "      <th>IsHoliday</th>\n",
       "    </tr>\n",
       "  </thead>\n",
       "  <tbody>\n",
       "    <tr>\n",
       "      <th>0</th>\n",
       "      <td>1</td>\n",
       "      <td>2010-02-05</td>\n",
       "      <td>42.31</td>\n",
       "      <td>2.572</td>\n",
       "      <td>NaN</td>\n",
       "      <td>NaN</td>\n",
       "      <td>NaN</td>\n",
       "      <td>NaN</td>\n",
       "      <td>NaN</td>\n",
       "      <td>211.096358</td>\n",
       "      <td>8.106</td>\n",
       "      <td>False</td>\n",
       "    </tr>\n",
       "    <tr>\n",
       "      <th>1</th>\n",
       "      <td>1</td>\n",
       "      <td>2010-02-12</td>\n",
       "      <td>38.51</td>\n",
       "      <td>2.548</td>\n",
       "      <td>NaN</td>\n",
       "      <td>NaN</td>\n",
       "      <td>NaN</td>\n",
       "      <td>NaN</td>\n",
       "      <td>NaN</td>\n",
       "      <td>211.242170</td>\n",
       "      <td>8.106</td>\n",
       "      <td>True</td>\n",
       "    </tr>\n",
       "    <tr>\n",
       "      <th>2</th>\n",
       "      <td>1</td>\n",
       "      <td>2010-02-19</td>\n",
       "      <td>39.93</td>\n",
       "      <td>2.514</td>\n",
       "      <td>NaN</td>\n",
       "      <td>NaN</td>\n",
       "      <td>NaN</td>\n",
       "      <td>NaN</td>\n",
       "      <td>NaN</td>\n",
       "      <td>211.289143</td>\n",
       "      <td>8.106</td>\n",
       "      <td>False</td>\n",
       "    </tr>\n",
       "    <tr>\n",
       "      <th>3</th>\n",
       "      <td>1</td>\n",
       "      <td>2010-02-26</td>\n",
       "      <td>46.63</td>\n",
       "      <td>2.561</td>\n",
       "      <td>NaN</td>\n",
       "      <td>NaN</td>\n",
       "      <td>NaN</td>\n",
       "      <td>NaN</td>\n",
       "      <td>NaN</td>\n",
       "      <td>211.319643</td>\n",
       "      <td>8.106</td>\n",
       "      <td>False</td>\n",
       "    </tr>\n",
       "    <tr>\n",
       "      <th>4</th>\n",
       "      <td>1</td>\n",
       "      <td>2010-03-05</td>\n",
       "      <td>46.50</td>\n",
       "      <td>2.625</td>\n",
       "      <td>NaN</td>\n",
       "      <td>NaN</td>\n",
       "      <td>NaN</td>\n",
       "      <td>NaN</td>\n",
       "      <td>NaN</td>\n",
       "      <td>211.350143</td>\n",
       "      <td>8.106</td>\n",
       "      <td>False</td>\n",
       "    </tr>\n",
       "  </tbody>\n",
       "</table>\n",
       "</div>"
      ],
      "text/plain": [
       "   Store        Date  Temperature  Fuel_Price  MarkDown1  MarkDown2  \\\n",
       "0      1  2010-02-05        42.31       2.572        NaN        NaN   \n",
       "1      1  2010-02-12        38.51       2.548        NaN        NaN   \n",
       "2      1  2010-02-19        39.93       2.514        NaN        NaN   \n",
       "3      1  2010-02-26        46.63       2.561        NaN        NaN   \n",
       "4      1  2010-03-05        46.50       2.625        NaN        NaN   \n",
       "\n",
       "   MarkDown3  MarkDown4  MarkDown5         CPI  Unemployment  IsHoliday  \n",
       "0        NaN        NaN        NaN  211.096358         8.106      False  \n",
       "1        NaN        NaN        NaN  211.242170         8.106       True  \n",
       "2        NaN        NaN        NaN  211.289143         8.106      False  \n",
       "3        NaN        NaN        NaN  211.319643         8.106      False  \n",
       "4        NaN        NaN        NaN  211.350143         8.106      False  "
      ]
     },
     "execution_count": 8,
     "metadata": {},
     "output_type": "execute_result"
    }
   ],
   "source": [
    "features.head()"
   ]
  },
  {
   "cell_type": "code",
   "execution_count": 9,
   "metadata": {},
   "outputs": [
    {
     "data": {
      "text/plain": [
       "(8190, 12)"
      ]
     },
     "execution_count": 9,
     "metadata": {},
     "output_type": "execute_result"
    }
   ],
   "source": [
    "features.shape"
   ]
  },
  {
   "cell_type": "code",
   "execution_count": 10,
   "metadata": {},
   "outputs": [],
   "source": [
    "df=pd.merge(train,stores)\n",
    "merge1=pd.merge(df,features)"
   ]
  },
  {
   "cell_type": "code",
   "execution_count": 11,
   "metadata": {},
   "outputs": [
    {
     "data": {
      "text/plain": [
       "(421570, 16)"
      ]
     },
     "execution_count": 11,
     "metadata": {},
     "output_type": "execute_result"
    }
   ],
   "source": [
    "merge1.shape"
   ]
  },
  {
   "cell_type": "code",
   "execution_count": 12,
   "metadata": {},
   "outputs": [
    {
     "data": {
      "text/html": [
       "<div>\n",
       "<style scoped>\n",
       "    .dataframe tbody tr th:only-of-type {\n",
       "        vertical-align: middle;\n",
       "    }\n",
       "\n",
       "    .dataframe tbody tr th {\n",
       "        vertical-align: top;\n",
       "    }\n",
       "\n",
       "    .dataframe thead th {\n",
       "        text-align: right;\n",
       "    }\n",
       "</style>\n",
       "<table border=\"1\" class=\"dataframe\">\n",
       "  <thead>\n",
       "    <tr style=\"text-align: right;\">\n",
       "      <th></th>\n",
       "      <th>Store</th>\n",
       "      <th>Dept</th>\n",
       "      <th>Date</th>\n",
       "      <th>Weekly_Sales</th>\n",
       "      <th>IsHoliday</th>\n",
       "      <th>Type</th>\n",
       "      <th>Size</th>\n",
       "      <th>Temperature</th>\n",
       "      <th>Fuel_Price</th>\n",
       "      <th>MarkDown1</th>\n",
       "      <th>MarkDown2</th>\n",
       "      <th>MarkDown3</th>\n",
       "      <th>MarkDown4</th>\n",
       "      <th>MarkDown5</th>\n",
       "      <th>CPI</th>\n",
       "      <th>Unemployment</th>\n",
       "    </tr>\n",
       "  </thead>\n",
       "  <tbody>\n",
       "    <tr>\n",
       "      <th>0</th>\n",
       "      <td>1</td>\n",
       "      <td>1</td>\n",
       "      <td>2010-02-05</td>\n",
       "      <td>24924.50</td>\n",
       "      <td>False</td>\n",
       "      <td>A</td>\n",
       "      <td>151315</td>\n",
       "      <td>42.31</td>\n",
       "      <td>2.572</td>\n",
       "      <td>NaN</td>\n",
       "      <td>NaN</td>\n",
       "      <td>NaN</td>\n",
       "      <td>NaN</td>\n",
       "      <td>NaN</td>\n",
       "      <td>211.096358</td>\n",
       "      <td>8.106</td>\n",
       "    </tr>\n",
       "    <tr>\n",
       "      <th>1</th>\n",
       "      <td>1</td>\n",
       "      <td>2</td>\n",
       "      <td>2010-02-05</td>\n",
       "      <td>50605.27</td>\n",
       "      <td>False</td>\n",
       "      <td>A</td>\n",
       "      <td>151315</td>\n",
       "      <td>42.31</td>\n",
       "      <td>2.572</td>\n",
       "      <td>NaN</td>\n",
       "      <td>NaN</td>\n",
       "      <td>NaN</td>\n",
       "      <td>NaN</td>\n",
       "      <td>NaN</td>\n",
       "      <td>211.096358</td>\n",
       "      <td>8.106</td>\n",
       "    </tr>\n",
       "    <tr>\n",
       "      <th>2</th>\n",
       "      <td>1</td>\n",
       "      <td>3</td>\n",
       "      <td>2010-02-05</td>\n",
       "      <td>13740.12</td>\n",
       "      <td>False</td>\n",
       "      <td>A</td>\n",
       "      <td>151315</td>\n",
       "      <td>42.31</td>\n",
       "      <td>2.572</td>\n",
       "      <td>NaN</td>\n",
       "      <td>NaN</td>\n",
       "      <td>NaN</td>\n",
       "      <td>NaN</td>\n",
       "      <td>NaN</td>\n",
       "      <td>211.096358</td>\n",
       "      <td>8.106</td>\n",
       "    </tr>\n",
       "    <tr>\n",
       "      <th>3</th>\n",
       "      <td>1</td>\n",
       "      <td>4</td>\n",
       "      <td>2010-02-05</td>\n",
       "      <td>39954.04</td>\n",
       "      <td>False</td>\n",
       "      <td>A</td>\n",
       "      <td>151315</td>\n",
       "      <td>42.31</td>\n",
       "      <td>2.572</td>\n",
       "      <td>NaN</td>\n",
       "      <td>NaN</td>\n",
       "      <td>NaN</td>\n",
       "      <td>NaN</td>\n",
       "      <td>NaN</td>\n",
       "      <td>211.096358</td>\n",
       "      <td>8.106</td>\n",
       "    </tr>\n",
       "    <tr>\n",
       "      <th>4</th>\n",
       "      <td>1</td>\n",
       "      <td>5</td>\n",
       "      <td>2010-02-05</td>\n",
       "      <td>32229.38</td>\n",
       "      <td>False</td>\n",
       "      <td>A</td>\n",
       "      <td>151315</td>\n",
       "      <td>42.31</td>\n",
       "      <td>2.572</td>\n",
       "      <td>NaN</td>\n",
       "      <td>NaN</td>\n",
       "      <td>NaN</td>\n",
       "      <td>NaN</td>\n",
       "      <td>NaN</td>\n",
       "      <td>211.096358</td>\n",
       "      <td>8.106</td>\n",
       "    </tr>\n",
       "  </tbody>\n",
       "</table>\n",
       "</div>"
      ],
      "text/plain": [
       "   Store  Dept        Date  Weekly_Sales  IsHoliday Type    Size  Temperature  \\\n",
       "0      1     1  2010-02-05      24924.50      False    A  151315        42.31   \n",
       "1      1     2  2010-02-05      50605.27      False    A  151315        42.31   \n",
       "2      1     3  2010-02-05      13740.12      False    A  151315        42.31   \n",
       "3      1     4  2010-02-05      39954.04      False    A  151315        42.31   \n",
       "4      1     5  2010-02-05      32229.38      False    A  151315        42.31   \n",
       "\n",
       "   Fuel_Price  MarkDown1  MarkDown2  MarkDown3  MarkDown4  MarkDown5  \\\n",
       "0       2.572        NaN        NaN        NaN        NaN        NaN   \n",
       "1       2.572        NaN        NaN        NaN        NaN        NaN   \n",
       "2       2.572        NaN        NaN        NaN        NaN        NaN   \n",
       "3       2.572        NaN        NaN        NaN        NaN        NaN   \n",
       "4       2.572        NaN        NaN        NaN        NaN        NaN   \n",
       "\n",
       "          CPI  Unemployment  \n",
       "0  211.096358         8.106  \n",
       "1  211.096358         8.106  \n",
       "2  211.096358         8.106  \n",
       "3  211.096358         8.106  \n",
       "4  211.096358         8.106  "
      ]
     },
     "execution_count": 12,
     "metadata": {},
     "output_type": "execute_result"
    }
   ],
   "source": [
    "merge1.head()"
   ]
  },
  {
   "cell_type": "code",
   "execution_count": 13,
   "metadata": {},
   "outputs": [
    {
     "data": {
      "text/plain": [
       "Index(['Store', 'Dept', 'Date', 'Weekly_Sales', 'IsHoliday', 'Type', 'Size',\n",
       "       'Temperature', 'Fuel_Price', 'MarkDown1', 'MarkDown2', 'MarkDown3',\n",
       "       'MarkDown4', 'MarkDown5', 'CPI', 'Unemployment'],\n",
       "      dtype='object')"
      ]
     },
     "execution_count": 13,
     "metadata": {},
     "output_type": "execute_result"
    }
   ],
   "source": [
    "merge1.columns"
   ]
  },
  {
   "cell_type": "code",
   "execution_count": 14,
   "metadata": {},
   "outputs": [
    {
     "name": "stdout",
     "output_type": "stream",
     "text": [
      "<class 'pandas.core.frame.DataFrame'>\n",
      "Int64Index: 421570 entries, 0 to 421569\n",
      "Data columns (total 16 columns):\n",
      " #   Column        Dtype  \n",
      "---  ------        -----  \n",
      " 0   Store         int64  \n",
      " 1   Dept          int64  \n",
      " 2   Date          object \n",
      " 3   Weekly_Sales  float64\n",
      " 4   IsHoliday     bool   \n",
      " 5   Type          object \n",
      " 6   Size          int64  \n",
      " 7   Temperature   float64\n",
      " 8   Fuel_Price    float64\n",
      " 9   MarkDown1     float64\n",
      " 10  MarkDown2     float64\n",
      " 11  MarkDown3     float64\n",
      " 12  MarkDown4     float64\n",
      " 13  MarkDown5     float64\n",
      " 14  CPI           float64\n",
      " 15  Unemployment  float64\n",
      "dtypes: bool(1), float64(10), int64(3), object(2)\n",
      "memory usage: 51.9+ MB\n"
     ]
    }
   ],
   "source": [
    "merge1.info(null_counts = False)"
   ]
  },
  {
   "cell_type": "code",
   "execution_count": 15,
   "metadata": {},
   "outputs": [
    {
     "data": {
      "text/plain": [
       "Store                0\n",
       "Dept                 0\n",
       "Date                 0\n",
       "Weekly_Sales         0\n",
       "IsHoliday            0\n",
       "Type                 0\n",
       "Size                 0\n",
       "Temperature          0\n",
       "Fuel_Price           0\n",
       "MarkDown1       270889\n",
       "MarkDown2       310322\n",
       "MarkDown3       284479\n",
       "MarkDown4       286603\n",
       "MarkDown5       270138\n",
       "CPI                  0\n",
       "Unemployment         0\n",
       "dtype: int64"
      ]
     },
     "execution_count": 15,
     "metadata": {},
     "output_type": "execute_result"
    }
   ],
   "source": [
    "merge1.isna().sum()"
   ]
  },
  {
   "cell_type": "code",
   "execution_count": 16,
   "metadata": {},
   "outputs": [
    {
     "data": {
      "text/plain": [
       "dtype('<M8[ns]')"
      ]
     },
     "execution_count": 16,
     "metadata": {},
     "output_type": "execute_result"
    }
   ],
   "source": [
    "merge1['Date']=pd.to_datetime(merge1['Date'])\n",
    "merge1.Date.dtype"
   ]
  },
  {
   "cell_type": "code",
   "execution_count": 17,
   "metadata": {},
   "outputs": [],
   "source": [
    "merge1['IsHoliday']= np.where((merge1['IsHoliday']== True), 1, merge1['IsHoliday'])\n",
    "merge1['IsHoliday']=np.where((merge1['IsHoliday']== False), 0, merge1['IsHoliday'])"
   ]
  },
  {
   "cell_type": "code",
   "execution_count": 18,
   "metadata": {},
   "outputs": [
    {
     "data": {
      "text/plain": [
       "dtype('int32')"
      ]
     },
     "execution_count": 18,
     "metadata": {},
     "output_type": "execute_result"
    }
   ],
   "source": [
    "merge1['IsHoliday'].dtype"
   ]
  },
  {
   "cell_type": "code",
   "execution_count": 19,
   "metadata": {},
   "outputs": [
    {
     "name": "stdout",
     "output_type": "stream",
     "text": [
      "<class 'pandas.core.frame.DataFrame'>\n",
      "Int64Index: 421570 entries, 0 to 421569\n",
      "Data columns (total 16 columns):\n",
      " #   Column        Dtype         \n",
      "---  ------        -----         \n",
      " 0   Store         int64         \n",
      " 1   Dept          int64         \n",
      " 2   Date          datetime64[ns]\n",
      " 3   Weekly_Sales  float64       \n",
      " 4   IsHoliday     int32         \n",
      " 5   Type          object        \n",
      " 6   Size          int64         \n",
      " 7   Temperature   float64       \n",
      " 8   Fuel_Price    float64       \n",
      " 9   MarkDown1     float64       \n",
      " 10  MarkDown2     float64       \n",
      " 11  MarkDown3     float64       \n",
      " 12  MarkDown4     float64       \n",
      " 13  MarkDown5     float64       \n",
      " 14  CPI           float64       \n",
      " 15  Unemployment  float64       \n",
      "dtypes: datetime64[ns](1), float64(10), int32(1), int64(3), object(1)\n",
      "memory usage: 53.1+ MB\n"
     ]
    }
   ],
   "source": [
    "merge1.info(null_counts = False)"
   ]
  },
  {
   "cell_type": "code",
   "execution_count": 20,
   "metadata": {},
   "outputs": [
    {
     "data": {
      "text/plain": [
       "(421570, 14)"
      ]
     },
     "execution_count": 20,
     "metadata": {},
     "output_type": "execute_result"
    }
   ],
   "source": [
    "conti=merge1.loc[:,((merge1.dtypes=='int64')|(merge1.dtypes=='int32')| (merge1.dtypes=='float64')|(merge1.dtypes=='float32'))]\n",
    "cat=merge1.loc[:, (merge1.dtypes=='object')]\n",
    "date=merge1.loc[:,(merge1.dtypes=='datetime64[ns]')]\n",
    "\n",
    "conti.shape"
   ]
  },
  {
   "cell_type": "code",
   "execution_count": 21,
   "metadata": {},
   "outputs": [
    {
     "data": {
      "text/plain": [
       "(421570, 1)"
      ]
     },
     "execution_count": 21,
     "metadata": {},
     "output_type": "execute_result"
    }
   ],
   "source": [
    "cat.shape"
   ]
  },
  {
   "cell_type": "code",
   "execution_count": 22,
   "metadata": {},
   "outputs": [
    {
     "data": {
      "text/plain": [
       "(421570, 1)"
      ]
     },
     "execution_count": 22,
     "metadata": {},
     "output_type": "execute_result"
    }
   ],
   "source": [
    "date.shape"
   ]
  },
  {
   "cell_type": "code",
   "execution_count": 24,
   "metadata": {},
   "outputs": [
    {
     "data": {
      "text/html": [
       "<div>\n",
       "<style scoped>\n",
       "    .dataframe tbody tr th:only-of-type {\n",
       "        vertical-align: middle;\n",
       "    }\n",
       "\n",
       "    .dataframe tbody tr th {\n",
       "        vertical-align: top;\n",
       "    }\n",
       "\n",
       "    .dataframe thead th {\n",
       "        text-align: right;\n",
       "    }\n",
       "</style>\n",
       "<table border=\"1\" class=\"dataframe\">\n",
       "  <thead>\n",
       "    <tr style=\"text-align: right;\">\n",
       "      <th></th>\n",
       "      <th>COUNT</th>\n",
       "      <th>N</th>\n",
       "      <th>MEAN</th>\n",
       "      <th>MEDIAN</th>\n",
       "      <th>P1</th>\n",
       "      <th>P5</th>\n",
       "      <th>P10</th>\n",
       "      <th>P50</th>\n",
       "      <th>P75</th>\n",
       "      <th>P90</th>\n",
       "      <th>P95</th>\n",
       "      <th>P99</th>\n",
       "    </tr>\n",
       "  </thead>\n",
       "  <tbody>\n",
       "    <tr>\n",
       "      <th>Store</th>\n",
       "      <td>421570.0</td>\n",
       "      <td>0.0</td>\n",
       "      <td>22.20</td>\n",
       "      <td>22.00</td>\n",
       "      <td>1.00</td>\n",
       "      <td>3.00</td>\n",
       "      <td>5.00</td>\n",
       "      <td>22.00</td>\n",
       "      <td>33.00</td>\n",
       "      <td>40.00</td>\n",
       "      <td>43.00</td>\n",
       "      <td>45.00</td>\n",
       "    </tr>\n",
       "    <tr>\n",
       "      <th>Dept</th>\n",
       "      <td>421570.0</td>\n",
       "      <td>0.0</td>\n",
       "      <td>44.26</td>\n",
       "      <td>37.00</td>\n",
       "      <td>1.00</td>\n",
       "      <td>4.00</td>\n",
       "      <td>7.00</td>\n",
       "      <td>37.00</td>\n",
       "      <td>74.00</td>\n",
       "      <td>92.00</td>\n",
       "      <td>95.00</td>\n",
       "      <td>98.00</td>\n",
       "    </tr>\n",
       "    <tr>\n",
       "      <th>Weekly_Sales</th>\n",
       "      <td>421570.0</td>\n",
       "      <td>0.0</td>\n",
       "      <td>15981.26</td>\n",
       "      <td>7612.03</td>\n",
       "      <td>5.00</td>\n",
       "      <td>59.97</td>\n",
       "      <td>291.10</td>\n",
       "      <td>7612.03</td>\n",
       "      <td>20205.85</td>\n",
       "      <td>42845.67</td>\n",
       "      <td>61201.95</td>\n",
       "      <td>106479.59</td>\n",
       "    </tr>\n",
       "    <tr>\n",
       "      <th>IsHoliday</th>\n",
       "      <td>421570.0</td>\n",
       "      <td>0.0</td>\n",
       "      <td>0.07</td>\n",
       "      <td>0.00</td>\n",
       "      <td>0.00</td>\n",
       "      <td>0.00</td>\n",
       "      <td>0.00</td>\n",
       "      <td>0.00</td>\n",
       "      <td>0.00</td>\n",
       "      <td>0.00</td>\n",
       "      <td>1.00</td>\n",
       "      <td>1.00</td>\n",
       "    </tr>\n",
       "    <tr>\n",
       "      <th>Size</th>\n",
       "      <td>421570.0</td>\n",
       "      <td>0.0</td>\n",
       "      <td>136727.92</td>\n",
       "      <td>140167.00</td>\n",
       "      <td>34875.00</td>\n",
       "      <td>39690.00</td>\n",
       "      <td>39910.00</td>\n",
       "      <td>140167.00</td>\n",
       "      <td>202505.00</td>\n",
       "      <td>204184.00</td>\n",
       "      <td>206302.00</td>\n",
       "      <td>219622.00</td>\n",
       "    </tr>\n",
       "    <tr>\n",
       "      <th>Temperature</th>\n",
       "      <td>421570.0</td>\n",
       "      <td>0.0</td>\n",
       "      <td>60.09</td>\n",
       "      <td>62.09</td>\n",
       "      <td>18.30</td>\n",
       "      <td>27.31</td>\n",
       "      <td>33.98</td>\n",
       "      <td>62.09</td>\n",
       "      <td>74.28</td>\n",
       "      <td>83.58</td>\n",
       "      <td>87.27</td>\n",
       "      <td>92.81</td>\n",
       "    </tr>\n",
       "    <tr>\n",
       "      <th>Fuel_Price</th>\n",
       "      <td>421570.0</td>\n",
       "      <td>0.0</td>\n",
       "      <td>3.36</td>\n",
       "      <td>3.45</td>\n",
       "      <td>2.56</td>\n",
       "      <td>2.65</td>\n",
       "      <td>2.72</td>\n",
       "      <td>3.45</td>\n",
       "      <td>3.74</td>\n",
       "      <td>3.92</td>\n",
       "      <td>4.03</td>\n",
       "      <td>4.20</td>\n",
       "    </tr>\n",
       "    <tr>\n",
       "      <th>MarkDown1</th>\n",
       "      <td>150681.0</td>\n",
       "      <td>270889.0</td>\n",
       "      <td>7246.42</td>\n",
       "      <td>5347.45</td>\n",
       "      <td>17.76</td>\n",
       "      <td>149.19</td>\n",
       "      <td>375.20</td>\n",
       "      <td>5347.45</td>\n",
       "      <td>9210.90</td>\n",
       "      <td>15282.47</td>\n",
       "      <td>21801.35</td>\n",
       "      <td>41524.03</td>\n",
       "    </tr>\n",
       "    <tr>\n",
       "      <th>MarkDown2</th>\n",
       "      <td>111248.0</td>\n",
       "      <td>310322.0</td>\n",
       "      <td>3334.63</td>\n",
       "      <td>192.00</td>\n",
       "      <td>-0.99</td>\n",
       "      <td>1.95</td>\n",
       "      <td>6.98</td>\n",
       "      <td>192.00</td>\n",
       "      <td>1926.94</td>\n",
       "      <td>8549.74</td>\n",
       "      <td>16497.47</td>\n",
       "      <td>50366.60</td>\n",
       "    </tr>\n",
       "    <tr>\n",
       "      <th>MarkDown3</th>\n",
       "      <td>137091.0</td>\n",
       "      <td>284479.0</td>\n",
       "      <td>1439.42</td>\n",
       "      <td>24.60</td>\n",
       "      <td>0.06</td>\n",
       "      <td>0.65</td>\n",
       "      <td>1.65</td>\n",
       "      <td>24.60</td>\n",
       "      <td>103.99</td>\n",
       "      <td>400.09</td>\n",
       "      <td>1059.90</td>\n",
       "      <td>63143.29</td>\n",
       "    </tr>\n",
       "    <tr>\n",
       "      <th>MarkDown4</th>\n",
       "      <td>134967.0</td>\n",
       "      <td>286603.0</td>\n",
       "      <td>3383.17</td>\n",
       "      <td>1481.31</td>\n",
       "      <td>3.97</td>\n",
       "      <td>28.76</td>\n",
       "      <td>108.71</td>\n",
       "      <td>1481.31</td>\n",
       "      <td>3595.04</td>\n",
       "      <td>7871.42</td>\n",
       "      <td>12645.96</td>\n",
       "      <td>35785.26</td>\n",
       "    </tr>\n",
       "    <tr>\n",
       "      <th>MarkDown5</th>\n",
       "      <td>151432.0</td>\n",
       "      <td>270138.0</td>\n",
       "      <td>4628.98</td>\n",
       "      <td>3359.45</td>\n",
       "      <td>351.97</td>\n",
       "      <td>715.52</td>\n",
       "      <td>1070.83</td>\n",
       "      <td>3359.45</td>\n",
       "      <td>5563.80</td>\n",
       "      <td>8337.70</td>\n",
       "      <td>11269.24</td>\n",
       "      <td>27754.23</td>\n",
       "    </tr>\n",
       "    <tr>\n",
       "      <th>CPI</th>\n",
       "      <td>421570.0</td>\n",
       "      <td>0.0</td>\n",
       "      <td>171.20</td>\n",
       "      <td>182.32</td>\n",
       "      <td>126.11</td>\n",
       "      <td>126.50</td>\n",
       "      <td>128.82</td>\n",
       "      <td>182.32</td>\n",
       "      <td>212.42</td>\n",
       "      <td>219.44</td>\n",
       "      <td>221.94</td>\n",
       "      <td>225.47</td>\n",
       "    </tr>\n",
       "    <tr>\n",
       "      <th>Unemployment</th>\n",
       "      <td>421570.0</td>\n",
       "      <td>0.0</td>\n",
       "      <td>7.96</td>\n",
       "      <td>7.87</td>\n",
       "      <td>4.16</td>\n",
       "      <td>5.33</td>\n",
       "      <td>5.96</td>\n",
       "      <td>7.87</td>\n",
       "      <td>8.57</td>\n",
       "      <td>9.82</td>\n",
       "      <td>12.19</td>\n",
       "      <td>14.18</td>\n",
       "    </tr>\n",
       "  </tbody>\n",
       "</table>\n",
       "</div>"
      ],
      "text/plain": [
       "                 COUNT         N       MEAN     MEDIAN        P1        P5  \\\n",
       "Store         421570.0       0.0      22.20      22.00      1.00      3.00   \n",
       "Dept          421570.0       0.0      44.26      37.00      1.00      4.00   \n",
       "Weekly_Sales  421570.0       0.0   15981.26    7612.03      5.00     59.97   \n",
       "IsHoliday     421570.0       0.0       0.07       0.00      0.00      0.00   \n",
       "Size          421570.0       0.0  136727.92  140167.00  34875.00  39690.00   \n",
       "Temperature   421570.0       0.0      60.09      62.09     18.30     27.31   \n",
       "Fuel_Price    421570.0       0.0       3.36       3.45      2.56      2.65   \n",
       "MarkDown1     150681.0  270889.0    7246.42    5347.45     17.76    149.19   \n",
       "MarkDown2     111248.0  310322.0    3334.63     192.00     -0.99      1.95   \n",
       "MarkDown3     137091.0  284479.0    1439.42      24.60      0.06      0.65   \n",
       "MarkDown4     134967.0  286603.0    3383.17    1481.31      3.97     28.76   \n",
       "MarkDown5     151432.0  270138.0    4628.98    3359.45    351.97    715.52   \n",
       "CPI           421570.0       0.0     171.20     182.32    126.11    126.50   \n",
       "Unemployment  421570.0       0.0       7.96       7.87      4.16      5.33   \n",
       "\n",
       "                   P10        P50        P75        P90        P95        P99  \n",
       "Store             5.00      22.00      33.00      40.00      43.00      45.00  \n",
       "Dept              7.00      37.00      74.00      92.00      95.00      98.00  \n",
       "Weekly_Sales    291.10    7612.03   20205.85   42845.67   61201.95  106479.59  \n",
       "IsHoliday         0.00       0.00       0.00       0.00       1.00       1.00  \n",
       "Size          39910.00  140167.00  202505.00  204184.00  206302.00  219622.00  \n",
       "Temperature      33.98      62.09      74.28      83.58      87.27      92.81  \n",
       "Fuel_Price        2.72       3.45       3.74       3.92       4.03       4.20  \n",
       "MarkDown1       375.20    5347.45    9210.90   15282.47   21801.35   41524.03  \n",
       "MarkDown2         6.98     192.00    1926.94    8549.74   16497.47   50366.60  \n",
       "MarkDown3         1.65      24.60     103.99     400.09    1059.90   63143.29  \n",
       "MarkDown4       108.71    1481.31    3595.04    7871.42   12645.96   35785.26  \n",
       "MarkDown5      1070.83    3359.45    5563.80    8337.70   11269.24   27754.23  \n",
       "CPI             128.82     182.32     212.42     219.44     221.94     225.47  \n",
       "Unemployment      5.96       7.87       8.57       9.82      12.19      14.18  "
      ]
     },
     "execution_count": 24,
     "metadata": {},
     "output_type": "execute_result"
    }
   ],
   "source": [
    "5\n",
    "def continous_var_summary(x):\n",
    "    return pd.Series([x.count(),x.isna().sum(),x.mean(),x.median(),x.quantile(0.01),x.quantile(0.05),x.quantile(0.1),\n",
    "                      x.quantile(0.5),x.quantile(0.75),x.quantile(0.90),x.quantile(0.95),x.quantile(0.99)],\n",
    "                     \n",
    "                      index=['COUNT','N','MEAN','MEDIAN','P1','P5','P10','P50','P75','P90','P95','P99'])\n",
    "\n",
    "conti.apply(continous_var_summary).T.round(2)"
   ]
  },
  {
   "cell_type": "code",
   "execution_count": 25,
   "metadata": {},
   "outputs": [],
   "source": [
    "## Outlier Treatment\n",
    "conti=conti.apply(lambda x: x.clip(lower= x.dropna().quantile(0.01), upper=x.quantile(0.99)))"
   ]
  },
  {
   "cell_type": "code",
   "execution_count": 26,
   "metadata": {},
   "outputs": [
    {
     "data": {
      "text/html": [
       "<div>\n",
       "<style scoped>\n",
       "    .dataframe tbody tr th:only-of-type {\n",
       "        vertical-align: middle;\n",
       "    }\n",
       "\n",
       "    .dataframe tbody tr th {\n",
       "        vertical-align: top;\n",
       "    }\n",
       "\n",
       "    .dataframe thead th {\n",
       "        text-align: right;\n",
       "    }\n",
       "</style>\n",
       "<table border=\"1\" class=\"dataframe\">\n",
       "  <thead>\n",
       "    <tr style=\"text-align: right;\">\n",
       "      <th></th>\n",
       "      <th>Store</th>\n",
       "      <th>Dept</th>\n",
       "      <th>Weekly_Sales</th>\n",
       "      <th>IsHoliday</th>\n",
       "      <th>Size</th>\n",
       "      <th>Temperature</th>\n",
       "      <th>Fuel_Price</th>\n",
       "      <th>MarkDown1</th>\n",
       "      <th>MarkDown2</th>\n",
       "      <th>MarkDown3</th>\n",
       "      <th>MarkDown4</th>\n",
       "      <th>MarkDown5</th>\n",
       "      <th>CPI</th>\n",
       "      <th>Unemployment</th>\n",
       "    </tr>\n",
       "  </thead>\n",
       "  <tbody>\n",
       "    <tr>\n",
       "      <th>0</th>\n",
       "      <td>1</td>\n",
       "      <td>1</td>\n",
       "      <td>24924.50</td>\n",
       "      <td>0</td>\n",
       "      <td>151315</td>\n",
       "      <td>42.31</td>\n",
       "      <td>2.572</td>\n",
       "      <td>NaN</td>\n",
       "      <td>NaN</td>\n",
       "      <td>NaN</td>\n",
       "      <td>NaN</td>\n",
       "      <td>NaN</td>\n",
       "      <td>211.096358</td>\n",
       "      <td>8.106</td>\n",
       "    </tr>\n",
       "    <tr>\n",
       "      <th>1</th>\n",
       "      <td>1</td>\n",
       "      <td>2</td>\n",
       "      <td>50605.27</td>\n",
       "      <td>0</td>\n",
       "      <td>151315</td>\n",
       "      <td>42.31</td>\n",
       "      <td>2.572</td>\n",
       "      <td>NaN</td>\n",
       "      <td>NaN</td>\n",
       "      <td>NaN</td>\n",
       "      <td>NaN</td>\n",
       "      <td>NaN</td>\n",
       "      <td>211.096358</td>\n",
       "      <td>8.106</td>\n",
       "    </tr>\n",
       "    <tr>\n",
       "      <th>2</th>\n",
       "      <td>1</td>\n",
       "      <td>3</td>\n",
       "      <td>13740.12</td>\n",
       "      <td>0</td>\n",
       "      <td>151315</td>\n",
       "      <td>42.31</td>\n",
       "      <td>2.572</td>\n",
       "      <td>NaN</td>\n",
       "      <td>NaN</td>\n",
       "      <td>NaN</td>\n",
       "      <td>NaN</td>\n",
       "      <td>NaN</td>\n",
       "      <td>211.096358</td>\n",
       "      <td>8.106</td>\n",
       "    </tr>\n",
       "    <tr>\n",
       "      <th>3</th>\n",
       "      <td>1</td>\n",
       "      <td>4</td>\n",
       "      <td>39954.04</td>\n",
       "      <td>0</td>\n",
       "      <td>151315</td>\n",
       "      <td>42.31</td>\n",
       "      <td>2.572</td>\n",
       "      <td>NaN</td>\n",
       "      <td>NaN</td>\n",
       "      <td>NaN</td>\n",
       "      <td>NaN</td>\n",
       "      <td>NaN</td>\n",
       "      <td>211.096358</td>\n",
       "      <td>8.106</td>\n",
       "    </tr>\n",
       "    <tr>\n",
       "      <th>4</th>\n",
       "      <td>1</td>\n",
       "      <td>5</td>\n",
       "      <td>32229.38</td>\n",
       "      <td>0</td>\n",
       "      <td>151315</td>\n",
       "      <td>42.31</td>\n",
       "      <td>2.572</td>\n",
       "      <td>NaN</td>\n",
       "      <td>NaN</td>\n",
       "      <td>NaN</td>\n",
       "      <td>NaN</td>\n",
       "      <td>NaN</td>\n",
       "      <td>211.096358</td>\n",
       "      <td>8.106</td>\n",
       "    </tr>\n",
       "    <tr>\n",
       "      <th>...</th>\n",
       "      <td>...</td>\n",
       "      <td>...</td>\n",
       "      <td>...</td>\n",
       "      <td>...</td>\n",
       "      <td>...</td>\n",
       "      <td>...</td>\n",
       "      <td>...</td>\n",
       "      <td>...</td>\n",
       "      <td>...</td>\n",
       "      <td>...</td>\n",
       "      <td>...</td>\n",
       "      <td>...</td>\n",
       "      <td>...</td>\n",
       "      <td>...</td>\n",
       "    </tr>\n",
       "    <tr>\n",
       "      <th>421565</th>\n",
       "      <td>45</td>\n",
       "      <td>93</td>\n",
       "      <td>2487.80</td>\n",
       "      <td>0</td>\n",
       "      <td>118221</td>\n",
       "      <td>58.85</td>\n",
       "      <td>3.882</td>\n",
       "      <td>4018.91</td>\n",
       "      <td>58.08</td>\n",
       "      <td>100.0</td>\n",
       "      <td>211.94</td>\n",
       "      <td>858.33</td>\n",
       "      <td>192.308899</td>\n",
       "      <td>8.667</td>\n",
       "    </tr>\n",
       "    <tr>\n",
       "      <th>421566</th>\n",
       "      <td>45</td>\n",
       "      <td>94</td>\n",
       "      <td>5203.31</td>\n",
       "      <td>0</td>\n",
       "      <td>118221</td>\n",
       "      <td>58.85</td>\n",
       "      <td>3.882</td>\n",
       "      <td>4018.91</td>\n",
       "      <td>58.08</td>\n",
       "      <td>100.0</td>\n",
       "      <td>211.94</td>\n",
       "      <td>858.33</td>\n",
       "      <td>192.308899</td>\n",
       "      <td>8.667</td>\n",
       "    </tr>\n",
       "    <tr>\n",
       "      <th>421567</th>\n",
       "      <td>45</td>\n",
       "      <td>95</td>\n",
       "      <td>56017.47</td>\n",
       "      <td>0</td>\n",
       "      <td>118221</td>\n",
       "      <td>58.85</td>\n",
       "      <td>3.882</td>\n",
       "      <td>4018.91</td>\n",
       "      <td>58.08</td>\n",
       "      <td>100.0</td>\n",
       "      <td>211.94</td>\n",
       "      <td>858.33</td>\n",
       "      <td>192.308899</td>\n",
       "      <td>8.667</td>\n",
       "    </tr>\n",
       "    <tr>\n",
       "      <th>421568</th>\n",
       "      <td>45</td>\n",
       "      <td>97</td>\n",
       "      <td>6817.48</td>\n",
       "      <td>0</td>\n",
       "      <td>118221</td>\n",
       "      <td>58.85</td>\n",
       "      <td>3.882</td>\n",
       "      <td>4018.91</td>\n",
       "      <td>58.08</td>\n",
       "      <td>100.0</td>\n",
       "      <td>211.94</td>\n",
       "      <td>858.33</td>\n",
       "      <td>192.308899</td>\n",
       "      <td>8.667</td>\n",
       "    </tr>\n",
       "    <tr>\n",
       "      <th>421569</th>\n",
       "      <td>45</td>\n",
       "      <td>98</td>\n",
       "      <td>1076.80</td>\n",
       "      <td>0</td>\n",
       "      <td>118221</td>\n",
       "      <td>58.85</td>\n",
       "      <td>3.882</td>\n",
       "      <td>4018.91</td>\n",
       "      <td>58.08</td>\n",
       "      <td>100.0</td>\n",
       "      <td>211.94</td>\n",
       "      <td>858.33</td>\n",
       "      <td>192.308899</td>\n",
       "      <td>8.667</td>\n",
       "    </tr>\n",
       "  </tbody>\n",
       "</table>\n",
       "<p>421570 rows × 14 columns</p>\n",
       "</div>"
      ],
      "text/plain": [
       "        Store  Dept  Weekly_Sales  IsHoliday    Size  Temperature  Fuel_Price  \\\n",
       "0           1     1      24924.50          0  151315        42.31       2.572   \n",
       "1           1     2      50605.27          0  151315        42.31       2.572   \n",
       "2           1     3      13740.12          0  151315        42.31       2.572   \n",
       "3           1     4      39954.04          0  151315        42.31       2.572   \n",
       "4           1     5      32229.38          0  151315        42.31       2.572   \n",
       "...       ...   ...           ...        ...     ...          ...         ...   \n",
       "421565     45    93       2487.80          0  118221        58.85       3.882   \n",
       "421566     45    94       5203.31          0  118221        58.85       3.882   \n",
       "421567     45    95      56017.47          0  118221        58.85       3.882   \n",
       "421568     45    97       6817.48          0  118221        58.85       3.882   \n",
       "421569     45    98       1076.80          0  118221        58.85       3.882   \n",
       "\n",
       "        MarkDown1  MarkDown2  MarkDown3  MarkDown4  MarkDown5         CPI  \\\n",
       "0             NaN        NaN        NaN        NaN        NaN  211.096358   \n",
       "1             NaN        NaN        NaN        NaN        NaN  211.096358   \n",
       "2             NaN        NaN        NaN        NaN        NaN  211.096358   \n",
       "3             NaN        NaN        NaN        NaN        NaN  211.096358   \n",
       "4             NaN        NaN        NaN        NaN        NaN  211.096358   \n",
       "...           ...        ...        ...        ...        ...         ...   \n",
       "421565    4018.91      58.08      100.0     211.94     858.33  192.308899   \n",
       "421566    4018.91      58.08      100.0     211.94     858.33  192.308899   \n",
       "421567    4018.91      58.08      100.0     211.94     858.33  192.308899   \n",
       "421568    4018.91      58.08      100.0     211.94     858.33  192.308899   \n",
       "421569    4018.91      58.08      100.0     211.94     858.33  192.308899   \n",
       "\n",
       "        Unemployment  \n",
       "0              8.106  \n",
       "1              8.106  \n",
       "2              8.106  \n",
       "3              8.106  \n",
       "4              8.106  \n",
       "...              ...  \n",
       "421565         8.667  \n",
       "421566         8.667  \n",
       "421567         8.667  \n",
       "421568         8.667  \n",
       "421569         8.667  \n",
       "\n",
       "[421570 rows x 14 columns]"
      ]
     },
     "execution_count": 26,
     "metadata": {},
     "output_type": "execute_result"
    }
   ],
   "source": [
    "conti.apply(continous_var_summary).T.round()\n",
    "conti"
   ]
  },
  {
   "cell_type": "code",
   "execution_count": 27,
   "metadata": {},
   "outputs": [
    {
     "data": {
      "text/plain": [
       "Store           0\n",
       "Dept            0\n",
       "Weekly_Sales    0\n",
       "IsHoliday       0\n",
       "Size            0\n",
       "Temperature     0\n",
       "Fuel_Price      0\n",
       "MarkDown1       0\n",
       "MarkDown2       0\n",
       "MarkDown3       0\n",
       "MarkDown4       0\n",
       "MarkDown5       0\n",
       "CPI             0\n",
       "Unemployment    0\n",
       "dtype: int64"
      ]
     },
     "execution_count": 27,
     "metadata": {},
     "output_type": "execute_result"
    }
   ],
   "source": [
    "## Missing Imputation in Markdowns\n",
    "## Replacing NA in markdowns with zero.\n",
    "\n",
    "conti=conti.apply(lambda x: x.fillna(0))\n",
    "conti.isna().sum()"
   ]
  },
  {
   "cell_type": "code",
   "execution_count": 28,
   "metadata": {},
   "outputs": [],
   "source": [
    "## Handdling Date features\n",
    "## Extracting day,montha nd year from Date\n",
    "date['Day']=pd.DatetimeIndex(date['Date']).day\n",
    "date['Month']=pd.DatetimeIndex(date['Date']).month\n",
    "date['Year']=pd.DatetimeIndex(date['Date']).year"
   ]
  },
  {
   "cell_type": "code",
   "execution_count": 29,
   "metadata": {},
   "outputs": [
    {
     "data": {
      "text/html": [
       "<div>\n",
       "<style scoped>\n",
       "    .dataframe tbody tr th:only-of-type {\n",
       "        vertical-align: middle;\n",
       "    }\n",
       "\n",
       "    .dataframe tbody tr th {\n",
       "        vertical-align: top;\n",
       "    }\n",
       "\n",
       "    .dataframe thead th {\n",
       "        text-align: right;\n",
       "    }\n",
       "</style>\n",
       "<table border=\"1\" class=\"dataframe\">\n",
       "  <thead>\n",
       "    <tr style=\"text-align: right;\">\n",
       "      <th></th>\n",
       "      <th>Date</th>\n",
       "      <th>Day</th>\n",
       "      <th>Month</th>\n",
       "      <th>Year</th>\n",
       "    </tr>\n",
       "  </thead>\n",
       "  <tbody>\n",
       "    <tr>\n",
       "      <th>0</th>\n",
       "      <td>2010-02-05</td>\n",
       "      <td>5</td>\n",
       "      <td>2</td>\n",
       "      <td>2010</td>\n",
       "    </tr>\n",
       "    <tr>\n",
       "      <th>1</th>\n",
       "      <td>2010-02-05</td>\n",
       "      <td>5</td>\n",
       "      <td>2</td>\n",
       "      <td>2010</td>\n",
       "    </tr>\n",
       "    <tr>\n",
       "      <th>2</th>\n",
       "      <td>2010-02-05</td>\n",
       "      <td>5</td>\n",
       "      <td>2</td>\n",
       "      <td>2010</td>\n",
       "    </tr>\n",
       "    <tr>\n",
       "      <th>3</th>\n",
       "      <td>2010-02-05</td>\n",
       "      <td>5</td>\n",
       "      <td>2</td>\n",
       "      <td>2010</td>\n",
       "    </tr>\n",
       "    <tr>\n",
       "      <th>4</th>\n",
       "      <td>2010-02-05</td>\n",
       "      <td>5</td>\n",
       "      <td>2</td>\n",
       "      <td>2010</td>\n",
       "    </tr>\n",
       "  </tbody>\n",
       "</table>\n",
       "</div>"
      ],
      "text/plain": [
       "        Date  Day  Month  Year\n",
       "0 2010-02-05    5      2  2010\n",
       "1 2010-02-05    5      2  2010\n",
       "2 2010-02-05    5      2  2010\n",
       "3 2010-02-05    5      2  2010\n",
       "4 2010-02-05    5      2  2010"
      ]
     },
     "execution_count": 29,
     "metadata": {},
     "output_type": "execute_result"
    }
   ],
   "source": [
    "date.head()"
   ]
  },
  {
   "cell_type": "code",
   "execution_count": 30,
   "metadata": {},
   "outputs": [
    {
     "data": {
      "text/plain": [
       "(421570, 4)"
      ]
     },
     "execution_count": 30,
     "metadata": {},
     "output_type": "execute_result"
    }
   ],
   "source": [
    "date.shape"
   ]
  },
  {
   "cell_type": "markdown",
   "metadata": {},
   "source": [
    "## Creating new variable"
   ]
  },
  {
   "cell_type": "code",
   "execution_count": 31,
   "metadata": {},
   "outputs": [],
   "source": [
    "from datetime import datetime\n",
    "n=np.where\n",
    "d=date['Date']\n",
    "\n",
    "date['Super_Bowl']=n((d==datetime(2010,2,12))|(d==datetime(2011,2,11))|(d==datetime(2012,2,10))|(d==datetime(2013,2,8)),1,0)\n",
    "date['Labor_Day']=n((d==datetime(2010,9,10))|(d==datetime(2011,9,9))|(d==datetime(2012,9,7))|(d==datetime(2013,9,6)),1,0)\n",
    "date['Thanksgiving']=n((d==datetime(2010,11,26))|(d==datetime(2011,11,25))|(d==datetime(2012,11,23))|(d==datetime(2013,11,29)),1,0)\n",
    "date['Christmas']=n((d==datetime(2010,12,31))|(d==datetime(2011,12,30))|(d==datetime(2012,12,28))|(d==datetime(2013,12,27)),1,0)"
   ]
  },
  {
   "cell_type": "code",
   "execution_count": 32,
   "metadata": {},
   "outputs": [
    {
     "data": {
      "text/html": [
       "<div>\n",
       "<style scoped>\n",
       "    .dataframe tbody tr th:only-of-type {\n",
       "        vertical-align: middle;\n",
       "    }\n",
       "\n",
       "    .dataframe tbody tr th {\n",
       "        vertical-align: top;\n",
       "    }\n",
       "\n",
       "    .dataframe thead th {\n",
       "        text-align: right;\n",
       "    }\n",
       "</style>\n",
       "<table border=\"1\" class=\"dataframe\">\n",
       "  <thead>\n",
       "    <tr style=\"text-align: right;\">\n",
       "      <th></th>\n",
       "      <th>Date</th>\n",
       "      <th>Day</th>\n",
       "      <th>Month</th>\n",
       "      <th>Year</th>\n",
       "      <th>Super_Bowl</th>\n",
       "      <th>Labor_Day</th>\n",
       "      <th>Thanksgiving</th>\n",
       "      <th>Christmas</th>\n",
       "    </tr>\n",
       "  </thead>\n",
       "  <tbody>\n",
       "    <tr>\n",
       "      <th>0</th>\n",
       "      <td>2010-02-05</td>\n",
       "      <td>5</td>\n",
       "      <td>2</td>\n",
       "      <td>2010</td>\n",
       "      <td>0</td>\n",
       "      <td>0</td>\n",
       "      <td>0</td>\n",
       "      <td>0</td>\n",
       "    </tr>\n",
       "    <tr>\n",
       "      <th>1</th>\n",
       "      <td>2010-02-05</td>\n",
       "      <td>5</td>\n",
       "      <td>2</td>\n",
       "      <td>2010</td>\n",
       "      <td>0</td>\n",
       "      <td>0</td>\n",
       "      <td>0</td>\n",
       "      <td>0</td>\n",
       "    </tr>\n",
       "    <tr>\n",
       "      <th>2</th>\n",
       "      <td>2010-02-05</td>\n",
       "      <td>5</td>\n",
       "      <td>2</td>\n",
       "      <td>2010</td>\n",
       "      <td>0</td>\n",
       "      <td>0</td>\n",
       "      <td>0</td>\n",
       "      <td>0</td>\n",
       "    </tr>\n",
       "    <tr>\n",
       "      <th>3</th>\n",
       "      <td>2010-02-05</td>\n",
       "      <td>5</td>\n",
       "      <td>2</td>\n",
       "      <td>2010</td>\n",
       "      <td>0</td>\n",
       "      <td>0</td>\n",
       "      <td>0</td>\n",
       "      <td>0</td>\n",
       "    </tr>\n",
       "    <tr>\n",
       "      <th>4</th>\n",
       "      <td>2010-02-05</td>\n",
       "      <td>5</td>\n",
       "      <td>2</td>\n",
       "      <td>2010</td>\n",
       "      <td>0</td>\n",
       "      <td>0</td>\n",
       "      <td>0</td>\n",
       "      <td>0</td>\n",
       "    </tr>\n",
       "  </tbody>\n",
       "</table>\n",
       "</div>"
      ],
      "text/plain": [
       "        Date  Day  Month  Year  Super_Bowl  Labor_Day  Thanksgiving  Christmas\n",
       "0 2010-02-05    5      2  2010           0          0             0          0\n",
       "1 2010-02-05    5      2  2010           0          0             0          0\n",
       "2 2010-02-05    5      2  2010           0          0             0          0\n",
       "3 2010-02-05    5      2  2010           0          0             0          0\n",
       "4 2010-02-05    5      2  2010           0          0             0          0"
      ]
     },
     "execution_count": 32,
     "metadata": {},
     "output_type": "execute_result"
    }
   ],
   "source": [
    "date.head()"
   ]
  },
  {
   "cell_type": "code",
   "execution_count": 34,
   "metadata": {},
   "outputs": [
    {
     "data": {
      "text/plain": [
       "(421570, 8)"
      ]
     },
     "execution_count": 34,
     "metadata": {},
     "output_type": "execute_result"
    }
   ],
   "source": [
    "date.shape"
   ]
  },
  {
   "cell_type": "code",
   "execution_count": 33,
   "metadata": {},
   "outputs": [
    {
     "data": {
      "text/plain": [
       "Index(['Date', 'Day', 'Month', 'Year', 'Super_Bowl', 'Labor_Day',\n",
       "       'Thanksgiving', 'Christmas'],\n",
       "      dtype='object')"
      ]
     },
     "execution_count": 33,
     "metadata": {},
     "output_type": "execute_result"
    }
   ],
   "source": [
    "date.columns"
   ]
  },
  {
   "cell_type": "code",
   "execution_count": 35,
   "metadata": {},
   "outputs": [
    {
     "data": {
      "text/plain": [
       "(421570, 1)"
      ]
     },
     "execution_count": 35,
     "metadata": {},
     "output_type": "execute_result"
    }
   ],
   "source": [
    "cat.shape"
   ]
  },
  {
   "cell_type": "code",
   "execution_count": 36,
   "metadata": {},
   "outputs": [
    {
     "data": {
      "text/plain": [
       "Index(['Type'], dtype='object')"
      ]
     },
     "execution_count": 36,
     "metadata": {},
     "output_type": "execute_result"
    }
   ],
   "source": [
    "cat.columns"
   ]
  },
  {
   "cell_type": "code",
   "execution_count": 37,
   "metadata": {},
   "outputs": [
    {
     "data": {
      "text/plain": [
       "Index(['Store', 'Dept', 'Weekly_Sales', 'IsHoliday', 'Size', 'Temperature',\n",
       "       'Fuel_Price', 'MarkDown1', 'MarkDown2', 'MarkDown3', 'MarkDown4',\n",
       "       'MarkDown5', 'CPI', 'Unemployment'],\n",
       "      dtype='object')"
      ]
     },
     "execution_count": 37,
     "metadata": {},
     "output_type": "execute_result"
    }
   ],
   "source": [
    "conti.columns"
   ]
  },
  {
   "cell_type": "markdown",
   "metadata": {},
   "source": [
    "## Dummy Variables"
   ]
  },
  {
   "cell_type": "code",
   "execution_count": 38,
   "metadata": {},
   "outputs": [],
   "source": [
    "set_1=conti[['Store','Dept']]\n",
    "set_2=date[['Day','Month','Year']]"
   ]
  },
  {
   "cell_type": "code",
   "execution_count": 39,
   "metadata": {},
   "outputs": [],
   "source": [
    "def create_dummies(df,colname):\n",
    "    col_dummies=pd.get_dummies(df[colname],prefix=colname,drop_first=True)\n",
    "    df=pd.concat([df,col_dummies],axis=1)\n",
    "    df.drop(colname,axis=1,inplace=True)\n",
    "    return df"
   ]
  },
  {
   "cell_type": "code",
   "execution_count": 40,
   "metadata": {},
   "outputs": [],
   "source": [
    "for c_feature in set_1:\n",
    "    set_1[c_feature]=set_1[c_feature].astype('category')\n",
    "    set_1=create_dummies(set_1, c_feature)"
   ]
  },
  {
   "cell_type": "code",
   "execution_count": 41,
   "metadata": {},
   "outputs": [],
   "source": [
    "for c_feature in set_2:\n",
    "    set_2[c_feature]=set_2[c_feature].astype('category')\n",
    "    set_2=create_dummies(set_2,c_feature)"
   ]
  },
  {
   "cell_type": "code",
   "execution_count": 42,
   "metadata": {},
   "outputs": [
    {
     "data": {
      "text/plain": [
       "(421570, 123)"
      ]
     },
     "execution_count": 42,
     "metadata": {},
     "output_type": "execute_result"
    }
   ],
   "source": [
    "set_1.shape"
   ]
  },
  {
   "cell_type": "code",
   "execution_count": 43,
   "metadata": {},
   "outputs": [
    {
     "data": {
      "text/plain": [
       "(421570, 43)"
      ]
     },
     "execution_count": 43,
     "metadata": {},
     "output_type": "execute_result"
    }
   ],
   "source": [
    "set_2.shape"
   ]
  },
  {
   "cell_type": "code",
   "execution_count": 44,
   "metadata": {},
   "outputs": [
    {
     "data": {
      "text/plain": [
       "(421570, 8)"
      ]
     },
     "execution_count": 44,
     "metadata": {},
     "output_type": "execute_result"
    }
   ],
   "source": [
    "date.shape"
   ]
  },
  {
   "cell_type": "code",
   "execution_count": 45,
   "metadata": {},
   "outputs": [],
   "source": [
    "cat['Type']=cat['Type'].astype('category')\n",
    "cat=create_dummies(cat,'Type')"
   ]
  },
  {
   "cell_type": "code",
   "execution_count": 46,
   "metadata": {},
   "outputs": [
    {
     "data": {
      "text/plain": [
       "(421570, 2)"
      ]
     },
     "execution_count": 46,
     "metadata": {},
     "output_type": "execute_result"
    }
   ],
   "source": [
    "cat.shape"
   ]
  },
  {
   "cell_type": "code",
   "execution_count": 47,
   "metadata": {},
   "outputs": [],
   "source": [
    "conti.drop(columns=['Store','Dept'],axis=1, inplace=True)\n",
    "date.drop(columns=['Day','Month','Year'], axis=1, inplace=True)"
   ]
  },
  {
   "cell_type": "code",
   "execution_count": 48,
   "metadata": {},
   "outputs": [
    {
     "data": {
      "text/plain": [
       "(421570, 123)"
      ]
     },
     "execution_count": 48,
     "metadata": {},
     "output_type": "execute_result"
    }
   ],
   "source": [
    "set_1.shape"
   ]
  },
  {
   "cell_type": "code",
   "execution_count": 49,
   "metadata": {},
   "outputs": [
    {
     "data": {
      "text/plain": [
       "(421570, 185)"
      ]
     },
     "execution_count": 49,
     "metadata": {},
     "output_type": "execute_result"
    }
   ],
   "source": [
    "new_merge1=pd.concat([date,cat,conti,set_1,set_2],axis=1)\n",
    "new_merge1.shape"
   ]
  },
  {
   "cell_type": "markdown",
   "metadata": {},
   "source": [
    "## ASSUMPTION"
   ]
  },
  {
   "cell_type": "code",
   "execution_count": 50,
   "metadata": {},
   "outputs": [
    {
     "data": {
      "text/plain": [
       "<matplotlib.axes._subplots.AxesSubplot at 0x1ee2c012dc8>"
      ]
     },
     "execution_count": 50,
     "metadata": {},
     "output_type": "execute_result"
    },
    {
     "data": {
      "image/png": "[encoded data removed]",
      "text/plain": [
       "<Figure size 720x540 with 1 Axes>"
      ]
     },
     "metadata": {
      "needs_background": "light"
     },
     "output_type": "display_data"
    }
   ],
   "source": [
    "## Y should be normal.\n",
    "new_merge1.Weekly_Sales.sum()\n",
    "sn.distplot(new_merge1.Weekly_Sales)"
   ]
  },
  {
   "cell_type": "code",
   "execution_count": 51,
   "metadata": {},
   "outputs": [
    {
     "data": {
      "text/plain": [
       "<matplotlib.axes._subplots.AxesSubplot at 0x1ee2ddee688>"
      ]
     },
     "execution_count": 51,
     "metadata": {},
     "output_type": "execute_result"
    },
    {
     "data": {
      "image/png": "[encoded data removed]",
      "text/plain": [
       "<Figure size 720x540 with 1 Axes>"
      ]
     },
     "metadata": {
      "needs_background": "light"
     },
     "output_type": "display_data"
    }
   ],
   "source": [
    "## We can see that Y is not normal.\n",
    "## We will take the log transformation to make Y normal\n",
    "\n",
    "new_merge1['ln_Weekly_Sales'] = np.log(new_merge1.Weekly_Sales)\n",
    "sn.distplot(new_merge1['ln_Weekly_Sales'])"
   ]
  },
  {
   "cell_type": "markdown",
   "metadata": {},
   "source": [
    "### 2. Y should not have any missing value."
   ]
  },
  {
   "cell_type": "code",
   "execution_count": 52,
   "metadata": {},
   "outputs": [
    {
     "data": {
      "text/plain": [
       "0"
      ]
     },
     "execution_count": 52,
     "metadata": {},
     "output_type": "execute_result"
    }
   ],
   "source": [
    "new_merge1.ln_Weekly_Sales.isna().sum()"
   ]
  },
  {
   "cell_type": "markdown",
   "metadata": {},
   "source": [
    "### 3.There must be a relation between X and Y"
   ]
  },
  {
   "cell_type": "code",
   "execution_count": 53,
   "metadata": {},
   "outputs": [
    {
     "data": {
      "text/html": [
       "<div>\n",
       "<style scoped>\n",
       "    .dataframe tbody tr th:only-of-type {\n",
       "        vertical-align: middle;\n",
       "    }\n",
       "\n",
       "    .dataframe tbody tr th {\n",
       "        vertical-align: top;\n",
       "    }\n",
       "\n",
       "    .dataframe thead th {\n",
       "        text-align: right;\n",
       "    }\n",
       "</style>\n",
       "<table border=\"1\" class=\"dataframe\">\n",
       "  <thead>\n",
       "    <tr style=\"text-align: right;\">\n",
       "      <th></th>\n",
       "      <th>Super_Bowl</th>\n",
       "      <th>Labor_Day</th>\n",
       "      <th>Thanksgiving</th>\n",
       "      <th>Christmas</th>\n",
       "      <th>Type_B</th>\n",
       "      <th>Type_C</th>\n",
       "      <th>Weekly_Sales</th>\n",
       "      <th>IsHoliday</th>\n",
       "      <th>Size</th>\n",
       "      <th>Temperature</th>\n",
       "      <th>...</th>\n",
       "      <th>Month_6</th>\n",
       "      <th>Month_7</th>\n",
       "      <th>Month_8</th>\n",
       "      <th>Month_9</th>\n",
       "      <th>Month_10</th>\n",
       "      <th>Month_11</th>\n",
       "      <th>Month_12</th>\n",
       "      <th>Year_2011</th>\n",
       "      <th>Year_2012</th>\n",
       "      <th>ln_Weekly_Sales</th>\n",
       "    </tr>\n",
       "  </thead>\n",
       "  <tbody>\n",
       "    <tr>\n",
       "      <th>Super_Bowl</th>\n",
       "      <td>1.000000</td>\n",
       "      <td>-0.021512</td>\n",
       "      <td>-0.017580</td>\n",
       "      <td>-0.017560</td>\n",
       "      <td>0.000281</td>\n",
       "      <td>-0.000864</td>\n",
       "      <td>0.002487</td>\n",
       "      <td>0.533665</td>\n",
       "      <td>0.000798</td>\n",
       "      <td>-0.202487</td>\n",
       "      <td>...</td>\n",
       "      <td>-0.046302</td>\n",
       "      <td>-0.048175</td>\n",
       "      <td>-0.046323</td>\n",
       "      <td>-0.046436</td>\n",
       "      <td>-0.046452</td>\n",
       "      <td>-0.035762</td>\n",
       "      <td>-0.040493</td>\n",
       "      <td>-0.010285</td>\n",
       "      <td>0.011217</td>\n",
       "      <td>0.003501</td>\n",
       "    </tr>\n",
       "    <tr>\n",
       "      <th>Labor_Day</th>\n",
       "      <td>-0.021512</td>\n",
       "      <td>1.000000</td>\n",
       "      <td>-0.017545</td>\n",
       "      <td>-0.017526</td>\n",
       "      <td>-0.000425</td>\n",
       "      <td>-0.000239</td>\n",
       "      <td>-0.000618</td>\n",
       "      <td>0.532622</td>\n",
       "      <td>0.000396</td>\n",
       "      <td>0.112436</td>\n",
       "      <td>...</td>\n",
       "      <td>-0.046211</td>\n",
       "      <td>-0.048081</td>\n",
       "      <td>-0.046233</td>\n",
       "      <td>0.463265</td>\n",
       "      <td>-0.046361</td>\n",
       "      <td>-0.035692</td>\n",
       "      <td>-0.040414</td>\n",
       "      <td>-0.009191</td>\n",
       "      <td>0.010347</td>\n",
       "      <td>-0.003697</td>\n",
       "    </tr>\n",
       "    <tr>\n",
       "      <th>Thanksgiving</th>\n",
       "      <td>-0.017580</td>\n",
       "      <td>-0.017545</td>\n",
       "      <td>1.000000</td>\n",
       "      <td>-0.014322</td>\n",
       "      <td>0.000411</td>\n",
       "      <td>-0.000675</td>\n",
       "      <td>0.021788</td>\n",
       "      <td>0.435254</td>\n",
       "      <td>-0.000078</td>\n",
       "      <td>-0.077645</td>\n",
       "      <td>...</td>\n",
       "      <td>-0.037763</td>\n",
       "      <td>-0.039292</td>\n",
       "      <td>-0.037781</td>\n",
       "      <td>-0.037873</td>\n",
       "      <td>-0.037886</td>\n",
       "      <td>0.491570</td>\n",
       "      <td>-0.033026</td>\n",
       "      <td>0.035578</td>\n",
       "      <td>-0.078817</td>\n",
       "      <td>0.014730</td>\n",
       "    </tr>\n",
       "    <tr>\n",
       "      <th>Christmas</th>\n",
       "      <td>-0.017560</td>\n",
       "      <td>-0.017526</td>\n",
       "      <td>-0.014322</td>\n",
       "      <td>1.000000</td>\n",
       "      <td>0.000124</td>\n",
       "      <td>-0.000187</td>\n",
       "      <td>-0.006908</td>\n",
       "      <td>0.434772</td>\n",
       "      <td>-0.000090</td>\n",
       "      <td>-0.151807</td>\n",
       "      <td>...</td>\n",
       "      <td>-0.037722</td>\n",
       "      <td>-0.039248</td>\n",
       "      <td>-0.037739</td>\n",
       "      <td>-0.037831</td>\n",
       "      <td>-0.037844</td>\n",
       "      <td>-0.029135</td>\n",
       "      <td>0.433665</td>\n",
       "      <td>0.035061</td>\n",
       "      <td>-0.078730</td>\n",
       "      <td>-0.004256</td>\n",
       "    </tr>\n",
       "    <tr>\n",
       "      <th>Type_B</th>\n",
       "      <td>0.000281</td>\n",
       "      <td>-0.000425</td>\n",
       "      <td>0.000411</td>\n",
       "      <td>0.000124</td>\n",
       "      <td>1.000000</td>\n",
       "      <td>-0.266848</td>\n",
       "      <td>-0.134941</td>\n",
       "      <td>0.000167</td>\n",
       "      <td>-0.455646</td>\n",
       "      <td>-0.108191</td>\n",
       "      <td>...</td>\n",
       "      <td>-0.000143</td>\n",
       "      <td>-0.000543</td>\n",
       "      <td>-0.001270</td>\n",
       "      <td>-0.000420</td>\n",
       "      <td>0.000801</td>\n",
       "      <td>0.000472</td>\n",
       "      <td>0.000666</td>\n",
       "      <td>-0.000473</td>\n",
       "      <td>-0.000387</td>\n",
       "      <td>-0.050365</td>\n",
       "    </tr>\n",
       "    <tr>\n",
       "      <th>...</th>\n",
       "      <td>...</td>\n",
       "      <td>...</td>\n",
       "      <td>...</td>\n",
       "      <td>...</td>\n",
       "      <td>...</td>\n",
       "      <td>...</td>\n",
       "      <td>...</td>\n",
       "      <td>...</td>\n",
       "      <td>...</td>\n",
       "      <td>...</td>\n",
       "      <td>...</td>\n",
       "      <td>...</td>\n",
       "      <td>...</td>\n",
       "      <td>...</td>\n",
       "      <td>...</td>\n",
       "      <td>...</td>\n",
       "      <td>...</td>\n",
       "      <td>...</td>\n",
       "      <td>...</td>\n",
       "      <td>...</td>\n",
       "      <td>...</td>\n",
       "    </tr>\n",
       "    <tr>\n",
       "      <th>Month_11</th>\n",
       "      <td>-0.035762</td>\n",
       "      <td>-0.035692</td>\n",
       "      <td>0.491570</td>\n",
       "      <td>-0.029135</td>\n",
       "      <td>0.000472</td>\n",
       "      <td>-0.001401</td>\n",
       "      <td>0.010540</td>\n",
       "      <td>0.173348</td>\n",
       "      <td>0.000171</td>\n",
       "      <td>-0.142638</td>\n",
       "      <td>...</td>\n",
       "      <td>-0.076822</td>\n",
       "      <td>-0.079931</td>\n",
       "      <td>-0.076858</td>\n",
       "      <td>-0.077046</td>\n",
       "      <td>-0.077071</td>\n",
       "      <td>1.000000</td>\n",
       "      <td>-0.067184</td>\n",
       "      <td>0.070876</td>\n",
       "      <td>-0.160338</td>\n",
       "      <td>0.010926</td>\n",
       "    </tr>\n",
       "    <tr>\n",
       "      <th>Month_12</th>\n",
       "      <td>-0.040493</td>\n",
       "      <td>-0.040414</td>\n",
       "      <td>-0.033026</td>\n",
       "      <td>0.433665</td>\n",
       "      <td>0.000666</td>\n",
       "      <td>-0.000654</td>\n",
       "      <td>0.038712</td>\n",
       "      <td>0.139288</td>\n",
       "      <td>-0.000716</td>\n",
       "      <td>-0.307305</td>\n",
       "      <td>...</td>\n",
       "      <td>-0.086983</td>\n",
       "      <td>-0.090504</td>\n",
       "      <td>-0.087024</td>\n",
       "      <td>-0.087237</td>\n",
       "      <td>-0.087265</td>\n",
       "      <td>-0.067184</td>\n",
       "      <td>1.000000</td>\n",
       "      <td>0.080765</td>\n",
       "      <td>-0.181546</td>\n",
       "      <td>0.027927</td>\n",
       "    </tr>\n",
       "    <tr>\n",
       "      <th>Year_2011</th>\n",
       "      <td>-0.010285</td>\n",
       "      <td>-0.009191</td>\n",
       "      <td>0.035578</td>\n",
       "      <td>0.035061</td>\n",
       "      <td>-0.000473</td>\n",
       "      <td>0.000140</td>\n",
       "      <td>-0.001491</td>\n",
       "      <td>0.021653</td>\n",
       "      <td>-0.000550</td>\n",
       "      <td>-0.075123</td>\n",
       "      <td>...</td>\n",
       "      <td>-0.037107</td>\n",
       "      <td>-0.004924</td>\n",
       "      <td>-0.036572</td>\n",
       "      <td>0.013811</td>\n",
       "      <td>-0.036750</td>\n",
       "      <td>0.070876</td>\n",
       "      <td>0.080765</td>\n",
       "      <td>1.000000</td>\n",
       "      <td>-0.497971</td>\n",
       "      <td>-0.003151</td>\n",
       "    </tr>\n",
       "    <tr>\n",
       "      <th>Year_2012</th>\n",
       "      <td>0.011217</td>\n",
       "      <td>0.010347</td>\n",
       "      <td>-0.078817</td>\n",
       "      <td>-0.078730</td>\n",
       "      <td>-0.000387</td>\n",
       "      <td>0.004476</td>\n",
       "      <td>-0.007326</td>\n",
       "      <td>-0.060574</td>\n",
       "      <td>-0.004028</td>\n",
       "      <td>0.096986</td>\n",
       "      <td>...</td>\n",
       "      <td>0.058061</td>\n",
       "      <td>-0.010287</td>\n",
       "      <td>0.058729</td>\n",
       "      <td>0.004749</td>\n",
       "      <td>0.005000</td>\n",
       "      <td>-0.160338</td>\n",
       "      <td>-0.181546</td>\n",
       "      <td>-0.497971</td>\n",
       "      <td>1.000000</td>\n",
       "      <td>-0.013200</td>\n",
       "    </tr>\n",
       "    <tr>\n",
       "      <th>ln_Weekly_Sales</th>\n",
       "      <td>0.003501</td>\n",
       "      <td>-0.003697</td>\n",
       "      <td>0.014730</td>\n",
       "      <td>-0.004256</td>\n",
       "      <td>-0.050365</td>\n",
       "      <td>-0.235847</td>\n",
       "      <td>0.675724</td>\n",
       "      <td>0.004731</td>\n",
       "      <td>0.315027</td>\n",
       "      <td>-0.039230</td>\n",
       "      <td>...</td>\n",
       "      <td>0.002575</td>\n",
       "      <td>-0.003138</td>\n",
       "      <td>-0.003670</td>\n",
       "      <td>-0.009818</td>\n",
       "      <td>0.000343</td>\n",
       "      <td>0.010926</td>\n",
       "      <td>0.027927</td>\n",
       "      <td>-0.003151</td>\n",
       "      <td>-0.013200</td>\n",
       "      <td>1.000000</td>\n",
       "    </tr>\n",
       "  </tbody>\n",
       "</table>\n",
       "<p>185 rows × 185 columns</p>\n",
       "</div>"
      ],
      "text/plain": [
       "                 Super_Bowl  Labor_Day  Thanksgiving  Christmas    Type_B  \\\n",
       "Super_Bowl         1.000000  -0.021512     -0.017580  -0.017560  0.000281   \n",
       "Labor_Day         -0.021512   1.000000     -0.017545  -0.017526 -0.000425   \n",
       "Thanksgiving      -0.017580  -0.017545      1.000000  -0.014322  0.000411   \n",
       "Christmas         -0.017560  -0.017526     -0.014322   1.000000  0.000124   \n",
       "Type_B             0.000281  -0.000425      0.000411   0.000124  1.000000   \n",
       "...                     ...        ...           ...        ...       ...   \n",
       "Month_11          -0.035762  -0.035692      0.491570  -0.029135  0.000472   \n",
       "Month_12          -0.040493  -0.040414     -0.033026   0.433665  0.000666   \n",
       "Year_2011         -0.010285  -0.009191      0.035578   0.035061 -0.000473   \n",
       "Year_2012          0.011217   0.010347     -0.078817  -0.078730 -0.000387   \n",
       "ln_Weekly_Sales    0.003501  -0.003697      0.014730  -0.004256 -0.050365   \n",
       "\n",
       "                   Type_C  Weekly_Sales  IsHoliday      Size  Temperature  \\\n",
       "Super_Bowl      -0.000864      0.002487   0.533665  0.000798    -0.202487   \n",
       "Labor_Day       -0.000239     -0.000618   0.532622  0.000396     0.112436   \n",
       "Thanksgiving    -0.000675      0.021788   0.435254 -0.000078    -0.077645   \n",
       "Christmas       -0.000187     -0.006908   0.434772 -0.000090    -0.151807   \n",
       "Type_B          -0.266848     -0.134941   0.000167 -0.455646    -0.108191   \n",
       "...                   ...           ...        ...       ...          ...   \n",
       "Month_11        -0.001401      0.010540   0.173348  0.000171    -0.142638   \n",
       "Month_12        -0.000654      0.038712   0.139288 -0.000716    -0.307305   \n",
       "Year_2011        0.000140     -0.001491   0.021653 -0.000550    -0.075123   \n",
       "Year_2012        0.004476     -0.007326  -0.060574 -0.004028     0.096986   \n",
       "ln_Weekly_Sales -0.235847      0.675724   0.004731  0.315027    -0.039230   \n",
       "\n",
       "                 ...   Month_6   Month_7   Month_8   Month_9  Month_10  \\\n",
       "Super_Bowl       ... -0.046302 -0.048175 -0.046323 -0.046436 -0.046452   \n",
       "Labor_Day        ... -0.046211 -0.048081 -0.046233  0.463265 -0.046361   \n",
       "Thanksgiving     ... -0.037763 -0.039292 -0.037781 -0.037873 -0.037886   \n",
       "Christmas        ... -0.037722 -0.039248 -0.037739 -0.037831 -0.037844   \n",
       "Type_B           ... -0.000143 -0.000543 -0.001270 -0.000420  0.000801   \n",
       "...              ...       ...       ...       ...       ...       ...   \n",
       "Month_11         ... -0.076822 -0.079931 -0.076858 -0.077046 -0.077071   \n",
       "Month_12         ... -0.086983 -0.090504 -0.087024 -0.087237 -0.087265   \n",
       "Year_2011        ... -0.037107 -0.004924 -0.036572  0.013811 -0.036750   \n",
       "Year_2012        ...  0.058061 -0.010287  0.058729  0.004749  0.005000   \n",
       "ln_Weekly_Sales  ...  0.002575 -0.003138 -0.003670 -0.009818  0.000343   \n",
       "\n",
       "                 Month_11  Month_12  Year_2011  Year_2012  ln_Weekly_Sales  \n",
       "Super_Bowl      -0.035762 -0.040493  -0.010285   0.011217         0.003501  \n",
       "Labor_Day       -0.035692 -0.040414  -0.009191   0.010347        -0.003697  \n",
       "Thanksgiving     0.491570 -0.033026   0.035578  -0.078817         0.014730  \n",
       "Christmas       -0.029135  0.433665   0.035061  -0.078730        -0.004256  \n",
       "Type_B           0.000472  0.000666  -0.000473  -0.000387        -0.050365  \n",
       "...                   ...       ...        ...        ...              ...  \n",
       "Month_11         1.000000 -0.067184   0.070876  -0.160338         0.010926  \n",
       "Month_12        -0.067184  1.000000   0.080765  -0.181546         0.027927  \n",
       "Year_2011        0.070876  0.080765   1.000000  -0.497971        -0.003151  \n",
       "Year_2012       -0.160338 -0.181546  -0.497971   1.000000        -0.013200  \n",
       "ln_Weekly_Sales  0.010926  0.027927  -0.003151  -0.013200         1.000000  \n",
       "\n",
       "[185 rows x 185 columns]"
      ]
     },
     "execution_count": 53,
     "metadata": {},
     "output_type": "execute_result"
    }
   ],
   "source": [
    "corrm=new_merge1.corr()\n",
    "corrm"
   ]
  },
  {
   "cell_type": "code",
   "execution_count": 54,
   "metadata": {},
   "outputs": [
    {
     "data": {
      "text/plain": [
       "Index(['Super_Bowl', 'Labor_Day', 'Thanksgiving', 'Christmas', 'IsHoliday',\n",
       "       'Temperature', 'Fuel_Price', 'MarkDown2', 'MarkDown3', 'CPI',\n",
       "       ...\n",
       "       'Month_5', 'Month_6', 'Month_7', 'Month_8', 'Month_9', 'Month_10',\n",
       "       'Month_11', 'Month_12', 'Year_2011', 'Year_2012'],\n",
       "      dtype='object', length=120)"
      ]
     },
     "execution_count": 54,
     "metadata": {},
     "output_type": "execute_result"
    }
   ],
   "source": [
    "corrm_new = corrm[(corrm.ln_Weekly_Sales < 0.05) & (corrm.ln_Weekly_Sales > -0.05)].T.columns\n",
    "corrm_new "
   ]
  },
  {
   "cell_type": "code",
   "execution_count": 55,
   "metadata": {},
   "outputs": [
    {
     "data": {
      "text/plain": [
       "(421570, 186)"
      ]
     },
     "execution_count": 55,
     "metadata": {},
     "output_type": "execute_result"
    }
   ],
   "source": [
    "new_merge1.shape"
   ]
  },
  {
   "cell_type": "code",
   "execution_count": 56,
   "metadata": {},
   "outputs": [],
   "source": [
    "new_merge1=new_merge1.drop(columns=corrm_new)"
   ]
  },
  {
   "cell_type": "code",
   "execution_count": 57,
   "metadata": {},
   "outputs": [
    {
     "data": {
      "text/plain": [
       "(421570, 66)"
      ]
     },
     "execution_count": 57,
     "metadata": {},
     "output_type": "execute_result"
    }
   ],
   "source": [
    "new_merge1.shape"
   ]
  },
  {
   "cell_type": "code",
   "execution_count": 58,
   "metadata": {},
   "outputs": [
    {
     "data": {
      "text/plain": [
       "<matplotlib.axes._subplots.AxesSubplot at 0x1ee2c33c108>"
      ]
     },
     "execution_count": 58,
     "metadata": {},
     "output_type": "execute_result"
    },
    {
     "data": {
      "image/png": "[encoded data removed]",
      "text/plain": [
       "<Figure size 720x540 with 2 Axes>"
      ]
     },
     "metadata": {
      "needs_background": "light"
     },
     "output_type": "display_data"
    }
   ],
   "source": [
    "sn.heatmap(new_merge1.corr())"
   ]
  },
  {
   "cell_type": "code",
   "execution_count": 59,
   "metadata": {},
   "outputs": [
    {
     "data": {
      "text/plain": [
       "Index(['Date', 'Type_B', 'Type_C', 'Weekly_Sales', 'Size', 'MarkDown1',\n",
       "       'MarkDown4', 'MarkDown5', 'Store_2', 'Store_3', 'Store_4', 'Store_5',\n",
       "       'Store_6', 'Store_10', 'Store_13', 'Store_14', 'Store_20', 'Store_27',\n",
       "       'Store_30', 'Store_33', 'Store_36', 'Store_37', 'Store_38', 'Store_42',\n",
       "       'Store_43', 'Store_44', 'Dept_2', 'Dept_4', 'Dept_8', 'Dept_12',\n",
       "       'Dept_13', 'Dept_18', 'Dept_19', 'Dept_23', 'Dept_27', 'Dept_28',\n",
       "       'Dept_31', 'Dept_34', 'Dept_36', 'Dept_38', 'Dept_40', 'Dept_41',\n",
       "       'Dept_45', 'Dept_46', 'Dept_47', 'Dept_48', 'Dept_51', 'Dept_52',\n",
       "       'Dept_54', 'Dept_56', 'Dept_59', 'Dept_60', 'Dept_72', 'Dept_78',\n",
       "       'Dept_79', 'Dept_81', 'Dept_82', 'Dept_83', 'Dept_85', 'Dept_90',\n",
       "       'Dept_91', 'Dept_92', 'Dept_93', 'Dept_95', 'Dept_98',\n",
       "       'ln_Weekly_Sales'],\n",
       "      dtype='object')"
      ]
     },
     "execution_count": 59,
     "metadata": {},
     "output_type": "execute_result"
    }
   ],
   "source": [
    "new_merge1.columns"
   ]
  },
  {
   "cell_type": "markdown",
   "metadata": {},
   "source": [
    "### Building regression model"
   ]
  },
  {
   "cell_type": "code",
   "execution_count": 60,
   "metadata": {},
   "outputs": [],
   "source": [
    "from sklearn.model_selection import train_test_split\n",
    "train,test= train_test_split(new_merge1, test_size=0.25, random_state=0)"
   ]
  },
  {
   "cell_type": "code",
   "execution_count": 61,
   "metadata": {},
   "outputs": [],
   "source": [
    "### Building Linear Regression Model\n",
    "import statsmodels.formula.api as smf\n",
    "my_formula=\"ln_Weekly_Sales~\"+ \"+\" .join(new_merge1.columns.difference(['ln_Weekly_Sales','Date','Weekly_Sales']))"
   ]
  },
  {
   "cell_type": "code",
   "execution_count": 62,
   "metadata": {},
   "outputs": [
    {
     "data": {
      "text/html": [
       "<table class=\"simpletable\">\n",
       "<caption>OLS Regression Results</caption>\n",
       "<tr>\n",
       "  <th>Dep. Variable:</th>     <td>ln_Weekly_Sales</td> <th>  R-squared:         </th>  <td>   0.621</td>  \n",
       "</tr>\n",
       "<tr>\n",
       "  <th>Model:</th>                   <td>OLS</td>       <th>  Adj. R-squared:    </th>  <td>   0.621</td>  \n",
       "</tr>\n",
       "<tr>\n",
       "  <th>Method:</th>             <td>Least Squares</td>  <th>  F-statistic:       </th>  <td>   8342.</td>  \n",
       "</tr>\n",
       "<tr>\n",
       "  <th>Date:</th>             <td>Tue, 30 Jun 2020</td> <th>  Prob (F-statistic):</th>   <td>  0.00</td>   \n",
       "</tr>\n",
       "<tr>\n",
       "  <th>Time:</th>                 <td>11:21:45</td>     <th>  Log-Likelihood:    </th> <td>-5.2184e+05</td>\n",
       "</tr>\n",
       "<tr>\n",
       "  <th>No. Observations:</th>      <td>316177</td>      <th>  AIC:               </th>  <td>1.044e+06</td> \n",
       "</tr>\n",
       "<tr>\n",
       "  <th>Df Residuals:</th>          <td>316114</td>      <th>  BIC:               </th>  <td>1.044e+06</td> \n",
       "</tr>\n",
       "<tr>\n",
       "  <th>Df Model:</th>              <td>    62</td>      <th>                     </th>      <td> </td>     \n",
       "</tr>\n",
       "<tr>\n",
       "  <th>Covariance Type:</th>      <td>nonrobust</td>    <th>                     </th>      <td> </td>     \n",
       "</tr>\n",
       "</table>\n",
       "<table class=\"simpletable\">\n",
       "<tr>\n",
       "      <td></td>         <th>coef</th>     <th>std err</th>      <th>t</th>      <th>P>|t|</th>  <th>[0.025</th>    <th>0.975]</th>  \n",
       "</tr>\n",
       "<tr>\n",
       "  <th>Intercept</th> <td>    7.9272</td> <td>    0.023</td> <td>  340.998</td> <td> 0.000</td> <td>    7.882</td> <td>    7.973</td>\n",
       "</tr>\n",
       "<tr>\n",
       "  <th>Dept_12</th>   <td>   -0.8122</td> <td>    0.018</td> <td>  -44.047</td> <td> 0.000</td> <td>   -0.848</td> <td>   -0.776</td>\n",
       "</tr>\n",
       "<tr>\n",
       "  <th>Dept_13</th>   <td>    1.7030</td> <td>    0.018</td> <td>   92.456</td> <td> 0.000</td> <td>    1.667</td> <td>    1.739</td>\n",
       "</tr>\n",
       "<tr>\n",
       "  <th>Dept_18</th>   <td>   -2.0187</td> <td>    0.021</td> <td>  -96.697</td> <td> 0.000</td> <td>   -2.060</td> <td>   -1.978</td>\n",
       "</tr>\n",
       "<tr>\n",
       "  <th>Dept_19</th>   <td>   -2.2886</td> <td>    0.023</td> <td>  -99.290</td> <td> 0.000</td> <td>   -2.334</td> <td>   -2.243</td>\n",
       "</tr>\n",
       "<tr>\n",
       "  <th>Dept_2</th>    <td>    2.0122</td> <td>    0.018</td> <td>  108.857</td> <td> 0.000</td> <td>    1.976</td> <td>    2.048</td>\n",
       "</tr>\n",
       "<tr>\n",
       "  <th>Dept_23</th>   <td>    0.7719</td> <td>    0.019</td> <td>   39.953</td> <td> 0.000</td> <td>    0.734</td> <td>    0.810</td>\n",
       "</tr>\n",
       "<tr>\n",
       "  <th>Dept_27</th>   <td>   -1.7375</td> <td>    0.020</td> <td>  -88.073</td> <td> 0.000</td> <td>   -1.776</td> <td>   -1.699</td>\n",
       "</tr>\n",
       "<tr>\n",
       "  <th>Dept_28</th>   <td>   -2.5150</td> <td>    0.019</td> <td> -134.028</td> <td> 0.000</td> <td>   -2.552</td> <td>   -2.478</td>\n",
       "</tr>\n",
       "<tr>\n",
       "  <th>Dept_31</th>   <td>   -1.4594</td> <td>    0.019</td> <td>  -76.812</td> <td> 0.000</td> <td>   -1.497</td> <td>   -1.422</td>\n",
       "</tr>\n",
       "<tr>\n",
       "  <th>Dept_34</th>   <td>    0.6329</td> <td>    0.020</td> <td>   31.372</td> <td> 0.000</td> <td>    0.593</td> <td>    0.672</td>\n",
       "</tr>\n",
       "<tr>\n",
       "  <th>Dept_36</th>   <td>   -1.6022</td> <td>    0.020</td> <td>  -78.949</td> <td> 0.000</td> <td>   -1.642</td> <td>   -1.562</td>\n",
       "</tr>\n",
       "<tr>\n",
       "  <th>Dept_38</th>   <td>    2.4484</td> <td>    0.018</td> <td>  132.818</td> <td> 0.000</td> <td>    2.412</td> <td>    2.484</td>\n",
       "</tr>\n",
       "<tr>\n",
       "  <th>Dept_4</th>    <td>    1.5486</td> <td>    0.019</td> <td>   83.608</td> <td> 0.000</td> <td>    1.512</td> <td>    1.585</td>\n",
       "</tr>\n",
       "<tr>\n",
       "  <th>Dept_40</th>   <td>    2.0980</td> <td>    0.018</td> <td>  113.840</td> <td> 0.000</td> <td>    2.062</td> <td>    2.134</td>\n",
       "</tr>\n",
       "<tr>\n",
       "  <th>Dept_41</th>   <td>   -1.8484</td> <td>    0.020</td> <td>  -92.309</td> <td> 0.000</td> <td>   -1.888</td> <td>   -1.809</td>\n",
       "</tr>\n",
       "<tr>\n",
       "  <th>Dept_45</th>   <td>   -6.0452</td> <td>    0.033</td> <td> -183.433</td> <td> 0.000</td> <td>   -6.110</td> <td>   -5.981</td>\n",
       "</tr>\n",
       "<tr>\n",
       "  <th>Dept_46</th>   <td>    1.1761</td> <td>    0.018</td> <td>   63.643</td> <td> 0.000</td> <td>    1.140</td> <td>    1.212</td>\n",
       "</tr>\n",
       "<tr>\n",
       "  <th>Dept_47</th>   <td>   -5.8190</td> <td>    0.058</td> <td> -100.009</td> <td> 0.000</td> <td>   -5.933</td> <td>   -5.705</td>\n",
       "</tr>\n",
       "<tr>\n",
       "  <th>Dept_48</th>   <td>   -2.2924</td> <td>    0.036</td> <td>  -64.323</td> <td> 0.000</td> <td>   -2.362</td> <td>   -2.223</td>\n",
       "</tr>\n",
       "<tr>\n",
       "  <th>Dept_51</th>   <td>   -6.1826</td> <td>    0.039</td> <td> -158.676</td> <td> 0.000</td> <td>   -6.259</td> <td>   -6.106</td>\n",
       "</tr>\n",
       "<tr>\n",
       "  <th>Dept_52</th>   <td>   -1.6562</td> <td>    0.019</td> <td>  -88.648</td> <td> 0.000</td> <td>   -1.693</td> <td>   -1.620</td>\n",
       "</tr>\n",
       "<tr>\n",
       "  <th>Dept_54</th>   <td>   -4.8145</td> <td>    0.021</td> <td> -226.580</td> <td> 0.000</td> <td>   -4.856</td> <td>   -4.773</td>\n",
       "</tr>\n",
       "<tr>\n",
       "  <th>Dept_56</th>   <td>   -1.4515</td> <td>    0.019</td> <td>  -75.144</td> <td> 0.000</td> <td>   -1.489</td> <td>   -1.414</td>\n",
       "</tr>\n",
       "<tr>\n",
       "  <th>Dept_59</th>   <td>   -2.9438</td> <td>    0.019</td> <td> -155.825</td> <td> 0.000</td> <td>   -2.981</td> <td>   -2.907</td>\n",
       "</tr>\n",
       "<tr>\n",
       "  <th>Dept_60</th>   <td>   -2.9328</td> <td>    0.019</td> <td> -151.748</td> <td> 0.000</td> <td>   -2.971</td> <td>   -2.895</td>\n",
       "</tr>\n",
       "<tr>\n",
       "  <th>Dept_72</th>   <td>    1.3949</td> <td>    0.019</td> <td>   73.490</td> <td> 0.000</td> <td>    1.358</td> <td>    1.432</td>\n",
       "</tr>\n",
       "<tr>\n",
       "  <th>Dept_78</th>   <td>   -6.7456</td> <td>    0.094</td> <td>  -71.543</td> <td> 0.000</td> <td>   -6.930</td> <td>   -6.561</td>\n",
       "</tr>\n",
       "<tr>\n",
       "  <th>Dept_79</th>   <td>    1.3063</td> <td>    0.018</td> <td>   71.103</td> <td> 0.000</td> <td>    1.270</td> <td>    1.342</td>\n",
       "</tr>\n",
       "<tr>\n",
       "  <th>Dept_8</th>    <td>    1.6374</td> <td>    0.018</td> <td>   89.124</td> <td> 0.000</td> <td>    1.601</td> <td>    1.673</td>\n",
       "</tr>\n",
       "<tr>\n",
       "  <th>Dept_81</th>   <td>    0.9440</td> <td>    0.018</td> <td>   51.256</td> <td> 0.000</td> <td>    0.908</td> <td>    0.980</td>\n",
       "</tr>\n",
       "<tr>\n",
       "  <th>Dept_82</th>   <td>    0.9864</td> <td>    0.018</td> <td>   53.666</td> <td> 0.000</td> <td>    0.950</td> <td>    1.022</td>\n",
       "</tr>\n",
       "<tr>\n",
       "  <th>Dept_83</th>   <td>   -0.8860</td> <td>    0.019</td> <td>  -46.170</td> <td> 0.000</td> <td>   -0.924</td> <td>   -0.848</td>\n",
       "</tr>\n",
       "<tr>\n",
       "  <th>Dept_85</th>   <td>   -1.3116</td> <td>    0.019</td> <td>  -69.279</td> <td> 0.000</td> <td>   -1.349</td> <td>   -1.275</td>\n",
       "</tr>\n",
       "<tr>\n",
       "  <th>Dept_90</th>   <td>    1.8418</td> <td>    0.018</td> <td>   99.906</td> <td> 0.000</td> <td>    1.806</td> <td>    1.878</td>\n",
       "</tr>\n",
       "<tr>\n",
       "  <th>Dept_91</th>   <td>    1.4255</td> <td>    0.018</td> <td>   77.388</td> <td> 0.000</td> <td>    1.389</td> <td>    1.462</td>\n",
       "</tr>\n",
       "<tr>\n",
       "  <th>Dept_92</th>   <td>    2.4155</td> <td>    0.018</td> <td>  131.270</td> <td> 0.000</td> <td>    2.379</td> <td>    2.452</td>\n",
       "</tr>\n",
       "<tr>\n",
       "  <th>Dept_93</th>   <td>    0.8631</td> <td>    0.019</td> <td>   44.665</td> <td> 0.000</td> <td>    0.825</td> <td>    0.901</td>\n",
       "</tr>\n",
       "<tr>\n",
       "  <th>Dept_95</th>   <td>    2.4911</td> <td>    0.018</td> <td>  135.178</td> <td> 0.000</td> <td>    2.455</td> <td>    2.527</td>\n",
       "</tr>\n",
       "<tr>\n",
       "  <th>Dept_98</th>   <td>   -1.2726</td> <td>    0.018</td> <td>  -70.866</td> <td> 0.000</td> <td>   -1.308</td> <td>   -1.237</td>\n",
       "</tr>\n",
       "<tr>\n",
       "  <th>MarkDown1</th> <td>-4.417e-06</td> <td>  7.8e-07</td> <td>   -5.665</td> <td> 0.000</td> <td>-5.94e-06</td> <td>-2.89e-06</td>\n",
       "</tr>\n",
       "<tr>\n",
       "  <th>MarkDown4</th> <td> 3.668e-06</td> <td> 1.16e-06</td> <td>    3.166</td> <td> 0.002</td> <td>  1.4e-06</td> <td> 5.94e-06</td>\n",
       "</tr>\n",
       "<tr>\n",
       "  <th>MarkDown5</th> <td> 2.449e-06</td> <td>  8.1e-07</td> <td>    3.023</td> <td> 0.003</td> <td> 8.61e-07</td> <td> 4.04e-06</td>\n",
       "</tr>\n",
       "<tr>\n",
       "  <th>Size</th>      <td> 5.666e-06</td> <td> 1.24e-07</td> <td>   45.540</td> <td> 0.000</td> <td> 5.42e-06</td> <td> 5.91e-06</td>\n",
       "</tr>\n",
       "<tr>\n",
       "  <th>Store_10</th>  <td>    0.7415</td> <td>    0.015</td> <td>   49.423</td> <td> 0.000</td> <td>    0.712</td> <td>    0.771</td>\n",
       "</tr>\n",
       "<tr>\n",
       "  <th>Store_13</th>  <td>    0.3245</td> <td>    0.016</td> <td>   20.929</td> <td> 0.000</td> <td>    0.294</td> <td>    0.355</td>\n",
       "</tr>\n",
       "<tr>\n",
       "  <th>Store_14</th>  <td>    0.3850</td> <td>    0.015</td> <td>   25.254</td> <td> 0.000</td> <td>    0.355</td> <td>    0.415</td>\n",
       "</tr>\n",
       "<tr>\n",
       "  <th>Store_2</th>   <td>    0.3864</td> <td>    0.015</td> <td>   25.557</td> <td> 0.000</td> <td>    0.357</td> <td>    0.416</td>\n",
       "</tr>\n",
       "<tr>\n",
       "  <th>Store_20</th>  <td>    0.4265</td> <td>    0.015</td> <td>   28.011</td> <td> 0.000</td> <td>    0.397</td> <td>    0.456</td>\n",
       "</tr>\n",
       "<tr>\n",
       "  <th>Store_27</th>  <td>    0.2375</td> <td>    0.015</td> <td>   15.669</td> <td> 0.000</td> <td>    0.208</td> <td>    0.267</td>\n",
       "</tr>\n",
       "<tr>\n",
       "  <th>Store_3</th>   <td>   -0.3353</td> <td>    0.018</td> <td>  -18.451</td> <td> 0.000</td> <td>   -0.371</td> <td>   -0.300</td>\n",
       "</tr>\n",
       "<tr>\n",
       "  <th>Store_30</th>  <td>   -0.3582</td> <td>    0.016</td> <td>  -22.512</td> <td> 0.000</td> <td>   -0.389</td> <td>   -0.327</td>\n",
       "</tr>\n",
       "<tr>\n",
       "  <th>Store_33</th>  <td>   -1.7873</td> <td>    0.026</td> <td>  -69.424</td> <td> 0.000</td> <td>   -1.838</td> <td>   -1.737</td>\n",
       "</tr>\n",
       "<tr>\n",
       "  <th>Store_36</th>  <td>   -1.3173</td> <td>    0.026</td> <td>  -50.851</td> <td> 0.000</td> <td>   -1.368</td> <td>   -1.267</td>\n",
       "</tr>\n",
       "<tr>\n",
       "  <th>Store_37</th>  <td>    0.1357</td> <td>    0.016</td> <td>    8.577</td> <td> 0.000</td> <td>    0.105</td> <td>    0.167</td>\n",
       "</tr>\n",
       "<tr>\n",
       "  <th>Store_38</th>  <td>   -0.4799</td> <td>    0.016</td> <td>  -30.284</td> <td> 0.000</td> <td>   -0.511</td> <td>   -0.449</td>\n",
       "</tr>\n",
       "<tr>\n",
       "  <th>Store_4</th>   <td>    0.4414</td> <td>    0.015</td> <td>   28.940</td> <td> 0.000</td> <td>    0.411</td> <td>    0.471</td>\n",
       "</tr>\n",
       "<tr>\n",
       "  <th>Store_42</th>  <td>    0.0690</td> <td>    0.016</td> <td>    4.255</td> <td> 0.000</td> <td>    0.037</td> <td>    0.101</td>\n",
       "</tr>\n",
       "<tr>\n",
       "  <th>Store_43</th>  <td>    0.1022</td> <td>    0.016</td> <td>    6.248</td> <td> 0.000</td> <td>    0.070</td> <td>    0.134</td>\n",
       "</tr>\n",
       "<tr>\n",
       "  <th>Store_44</th>  <td>   -0.5366</td> <td>    0.016</td> <td>  -33.465</td> <td> 0.000</td> <td>   -0.568</td> <td>   -0.505</td>\n",
       "</tr>\n",
       "<tr>\n",
       "  <th>Store_5</th>   <td>   -0.4628</td> <td>    0.018</td> <td>  -25.234</td> <td> 0.000</td> <td>   -0.499</td> <td>   -0.427</td>\n",
       "</tr>\n",
       "<tr>\n",
       "  <th>Store_6</th>   <td>    0.2789</td> <td>    0.015</td> <td>   18.455</td> <td> 0.000</td> <td>    0.249</td> <td>    0.309</td>\n",
       "</tr>\n",
       "<tr>\n",
       "  <th>Type_B</th>    <td>   -0.0356</td> <td>    0.011</td> <td>   -3.284</td> <td> 0.001</td> <td>   -0.057</td> <td>   -0.014</td>\n",
       "</tr>\n",
       "<tr>\n",
       "  <th>Type_C</th>    <td>   -1.0678</td> <td>    0.017</td> <td>  -63.775</td> <td> 0.000</td> <td>   -1.101</td> <td>   -1.035</td>\n",
       "</tr>\n",
       "</table>\n",
       "<table class=\"simpletable\">\n",
       "<tr>\n",
       "  <th>Omnibus:</th>       <td>92055.998</td> <th>  Durbin-Watson:     </th>  <td>   2.000</td> \n",
       "</tr>\n",
       "<tr>\n",
       "  <th>Prob(Omnibus):</th>  <td> 0.000</td>   <th>  Jarque-Bera (JB):  </th> <td>449454.290</td>\n",
       "</tr>\n",
       "<tr>\n",
       "  <th>Skew:</th>           <td>-1.335</td>   <th>  Prob(JB):          </th>  <td>    0.00</td> \n",
       "</tr>\n",
       "<tr>\n",
       "  <th>Kurtosis:</th>       <td> 8.195</td>   <th>  Cond. No.          </th>  <td>2.25e+15</td> \n",
       "</tr>\n",
       "</table><br/><br/>Warnings:<br/>[1] Standard Errors assume that the covariance matrix of the errors is correctly specified.<br/>[2] The smallest eigenvalue is 1.4e-15. This might indicate that there are<br/>strong multicollinearity problems or that the design matrix is singular."
      ],
      "text/plain": [
       "<class 'statsmodels.iolib.summary.Summary'>\n",
       "\"\"\"\n",
       "                            OLS Regression Results                            \n",
       "==============================================================================\n",
       "Dep. Variable:        ln_Weekly_Sales   R-squared:                       0.621\n",
       "Model:                            OLS   Adj. R-squared:                  0.621\n",
       "Method:                 Least Squares   F-statistic:                     8342.\n",
       "Date:                Tue, 30 Jun 2020   Prob (F-statistic):               0.00\n",
       "Time:                        11:21:45   Log-Likelihood:            -5.2184e+05\n",
       "No. Observations:              316177   AIC:                         1.044e+06\n",
       "Df Residuals:                  316114   BIC:                         1.044e+06\n",
       "Df Model:                          62                                         \n",
       "Covariance Type:            nonrobust                                         \n",
       "==============================================================================\n",
       "                 coef    std err          t      P>|t|      [0.025      0.975]\n",
       "------------------------------------------------------------------------------\n",
       "Intercept      7.9272      0.023    340.998      0.000       7.882       7.973\n",
       "Dept_12       -0.8122      0.018    -44.047      0.000      -0.848      -0.776\n",
       "Dept_13        1.7030      0.018     92.456      0.000       1.667       1.739\n",
       "Dept_18       -2.0187      0.021    -96.697      0.000      -2.060      -1.978\n",
       "Dept_19       -2.2886      0.023    -99.290      0.000      -2.334      -2.243\n",
       "Dept_2         2.0122      0.018    108.857      0.000       1.976       2.048\n",
       "Dept_23        0.7719      0.019     39.953      0.000       0.734       0.810\n",
       "Dept_27       -1.7375      0.020    -88.073      0.000      -1.776      -1.699\n",
       "Dept_28       -2.5150      0.019   -134.028      0.000      -2.552      -2.478\n",
       "Dept_31       -1.4594      0.019    -76.812      0.000      -1.497      -1.422\n",
       "Dept_34        0.6329      0.020     31.372      0.000       0.593       0.672\n",
       "Dept_36       -1.6022      0.020    -78.949      0.000      -1.642      -1.562\n",
       "Dept_38        2.4484      0.018    132.818      0.000       2.412       2.484\n",
       "Dept_4         1.5486      0.019     83.608      0.000       1.512       1.585\n",
       "Dept_40        2.0980      0.018    113.840      0.000       2.062       2.134\n",
       "Dept_41       -1.8484      0.020    -92.309      0.000      -1.888      -1.809\n",
       "Dept_45       -6.0452      0.033   -183.433      0.000      -6.110      -5.981\n",
       "Dept_46        1.1761      0.018     63.643      0.000       1.140       1.212\n",
       "Dept_47       -5.8190      0.058   -100.009      0.000      -5.933      -5.705\n",
       "Dept_48       -2.2924      0.036    -64.323      0.000      -2.362      -2.223\n",
       "Dept_51       -6.1826      0.039   -158.676      0.000      -6.259      -6.106\n",
       "Dept_52       -1.6562      0.019    -88.648      0.000      -1.693      -1.620\n",
       "Dept_54       -4.8145      0.021   -226.580      0.000      -4.856      -4.773\n",
       "Dept_56       -1.4515      0.019    -75.144      0.000      -1.489      -1.414\n",
       "Dept_59       -2.9438      0.019   -155.825      0.000      -2.981      -2.907\n",
       "Dept_60       -2.9328      0.019   -151.748      0.000      -2.971      -2.895\n",
       "Dept_72        1.3949      0.019     73.490      0.000       1.358       1.432\n",
       "Dept_78       -6.7456      0.094    -71.543      0.000      -6.930      -6.561\n",
       "Dept_79        1.3063      0.018     71.103      0.000       1.270       1.342\n",
       "Dept_8         1.6374      0.018     89.124      0.000       1.601       1.673\n",
       "Dept_81        0.9440      0.018     51.256      0.000       0.908       0.980\n",
       "Dept_82        0.9864      0.018     53.666      0.000       0.950       1.022\n",
       "Dept_83       -0.8860      0.019    -46.170      0.000      -0.924      -0.848\n",
       "Dept_85       -1.3116      0.019    -69.279      0.000      -1.349      -1.275\n",
       "Dept_90        1.8418      0.018     99.906      0.000       1.806       1.878\n",
       "Dept_91        1.4255      0.018     77.388      0.000       1.389       1.462\n",
       "Dept_92        2.4155      0.018    131.270      0.000       2.379       2.452\n",
       "Dept_93        0.8631      0.019     44.665      0.000       0.825       0.901\n",
       "Dept_95        2.4911      0.018    135.178      0.000       2.455       2.527\n",
       "Dept_98       -1.2726      0.018    -70.866      0.000      -1.308      -1.237\n",
       "MarkDown1  -4.417e-06    7.8e-07     -5.665      0.000   -5.94e-06   -2.89e-06\n",
       "MarkDown4   3.668e-06   1.16e-06      3.166      0.002     1.4e-06    5.94e-06\n",
       "MarkDown5   2.449e-06    8.1e-07      3.023      0.003    8.61e-07    4.04e-06\n",
       "Size        5.666e-06   1.24e-07     45.540      0.000    5.42e-06    5.91e-06\n",
       "Store_10       0.7415      0.015     49.423      0.000       0.712       0.771\n",
       "Store_13       0.3245      0.016     20.929      0.000       0.294       0.355\n",
       "Store_14       0.3850      0.015     25.254      0.000       0.355       0.415\n",
       "Store_2        0.3864      0.015     25.557      0.000       0.357       0.416\n",
       "Store_20       0.4265      0.015     28.011      0.000       0.397       0.456\n",
       "Store_27       0.2375      0.015     15.669      0.000       0.208       0.267\n",
       "Store_3       -0.3353      0.018    -18.451      0.000      -0.371      -0.300\n",
       "Store_30      -0.3582      0.016    -22.512      0.000      -0.389      -0.327\n",
       "Store_33      -1.7873      0.026    -69.424      0.000      -1.838      -1.737\n",
       "Store_36      -1.3173      0.026    -50.851      0.000      -1.368      -1.267\n",
       "Store_37       0.1357      0.016      8.577      0.000       0.105       0.167\n",
       "Store_38      -0.4799      0.016    -30.284      0.000      -0.511      -0.449\n",
       "Store_4        0.4414      0.015     28.940      0.000       0.411       0.471\n",
       "Store_42       0.0690      0.016      4.255      0.000       0.037       0.101\n",
       "Store_43       0.1022      0.016      6.248      0.000       0.070       0.134\n",
       "Store_44      -0.5366      0.016    -33.465      0.000      -0.568      -0.505\n",
       "Store_5       -0.4628      0.018    -25.234      0.000      -0.499      -0.427\n",
       "Store_6        0.2789      0.015     18.455      0.000       0.249       0.309\n",
       "Type_B        -0.0356      0.011     -3.284      0.001      -0.057      -0.014\n",
       "Type_C        -1.0678      0.017    -63.775      0.000      -1.101      -1.035\n",
       "==============================================================================\n",
       "Omnibus:                    92055.998   Durbin-Watson:                   2.000\n",
       "Prob(Omnibus):                  0.000   Jarque-Bera (JB):           449454.290\n",
       "Skew:                          -1.335   Prob(JB):                         0.00\n",
       "Kurtosis:                       8.195   Cond. No.                     2.25e+15\n",
       "==============================================================================\n",
       "\n",
       "Warnings:\n",
       "[1] Standard Errors assume that the covariance matrix of the errors is correctly specified.\n",
       "[2] The smallest eigenvalue is 1.4e-15. This might indicate that there are\n",
       "strong multicollinearity problems or that the design matrix is singular.\n",
       "\"\"\""
      ]
     },
     "execution_count": 62,
     "metadata": {},
     "output_type": "execute_result"
    }
   ],
   "source": [
    "lm=smf.ols(formula=my_formula, data=train).fit()\n",
    "lm.summary()"
   ]
  },
  {
   "cell_type": "code",
   "execution_count": 63,
   "metadata": {},
   "outputs": [],
   "source": [
    "# Variation Inflation Factor- to check multicolinearity between variables on baiss of high VIF value\n",
    "## if the VIF is between 5-10, multicolinearity is likely present and we should consider dropping the variable.\n",
    "\n",
    "from statsmodels.stats.outliers_influence import variance_inflation_factor\n",
    "from patsy import dmatrices\n",
    "\n",
    "y, X= dmatrices(my_formula, train, return_type='dataframe')"
   ]
  },
  {
   "cell_type": "code",
   "execution_count": 64,
   "metadata": {},
   "outputs": [],
   "source": [
    "## for each X.columns , we will calculate the VIF score\n",
    "\n",
    "dict={'VIF':[variance_inflation_factor(X.values,i) for i in range(X.shape[1])],\n",
    "       'features': (X.columns)}"
   ]
  },
  {
   "cell_type": "code",
   "execution_count": 65,
   "metadata": {},
   "outputs": [
    {
     "data": {
      "text/html": [
       "<div>\n",
       "<style scoped>\n",
       "    .dataframe tbody tr th:only-of-type {\n",
       "        vertical-align: middle;\n",
       "    }\n",
       "\n",
       "    .dataframe tbody tr th {\n",
       "        vertical-align: top;\n",
       "    }\n",
       "\n",
       "    .dataframe thead th {\n",
       "        text-align: right;\n",
       "    }\n",
       "</style>\n",
       "<table border=\"1\" class=\"dataframe\">\n",
       "  <thead>\n",
       "    <tr style=\"text-align: right;\">\n",
       "      <th></th>\n",
       "      <th>VIF</th>\n",
       "      <th>features</th>\n",
       "    </tr>\n",
       "  </thead>\n",
       "  <tbody>\n",
       "    <tr>\n",
       "      <th>63</th>\n",
       "      <td>inf</td>\n",
       "      <td>Type_C</td>\n",
       "    </tr>\n",
       "    <tr>\n",
       "      <th>51</th>\n",
       "      <td>inf</td>\n",
       "      <td>Store_30</td>\n",
       "    </tr>\n",
       "    <tr>\n",
       "      <th>59</th>\n",
       "      <td>inf</td>\n",
       "      <td>Store_44</td>\n",
       "    </tr>\n",
       "    <tr>\n",
       "      <th>58</th>\n",
       "      <td>inf</td>\n",
       "      <td>Store_43</td>\n",
       "    </tr>\n",
       "    <tr>\n",
       "      <th>57</th>\n",
       "      <td>inf</td>\n",
       "      <td>Store_42</td>\n",
       "    </tr>\n",
       "    <tr>\n",
       "      <th>...</th>\n",
       "      <td>...</td>\n",
       "      <td>...</td>\n",
       "    </tr>\n",
       "    <tr>\n",
       "      <th>19</th>\n",
       "      <td>1.009300</td>\n",
       "      <td>Dept_48</td>\n",
       "    </tr>\n",
       "    <tr>\n",
       "      <th>16</th>\n",
       "      <td>1.006010</td>\n",
       "      <td>Dept_45</td>\n",
       "    </tr>\n",
       "    <tr>\n",
       "      <th>20</th>\n",
       "      <td>1.005405</td>\n",
       "      <td>Dept_51</td>\n",
       "    </tr>\n",
       "    <tr>\n",
       "      <th>18</th>\n",
       "      <td>1.001824</td>\n",
       "      <td>Dept_47</td>\n",
       "    </tr>\n",
       "    <tr>\n",
       "      <th>27</th>\n",
       "      <td>1.000753</td>\n",
       "      <td>Dept_78</td>\n",
       "    </tr>\n",
       "  </tbody>\n",
       "</table>\n",
       "<p>64 rows × 2 columns</p>\n",
       "</div>"
      ],
      "text/plain": [
       "         VIF  features\n",
       "63       inf    Type_C\n",
       "51       inf  Store_30\n",
       "59       inf  Store_44\n",
       "58       inf  Store_43\n",
       "57       inf  Store_42\n",
       "..       ...       ...\n",
       "19  1.009300   Dept_48\n",
       "16  1.006010   Dept_45\n",
       "20  1.005405   Dept_51\n",
       "18  1.001824   Dept_47\n",
       "27  1.000753   Dept_78\n",
       "\n",
       "[64 rows x 2 columns]"
      ]
     },
     "execution_count": 65,
     "metadata": {},
     "output_type": "execute_result"
    }
   ],
   "source": [
    "vif=pd.DataFrame(dict)\n",
    "vif.sort_values('VIF', ascending=False)"
   ]
  },
  {
   "cell_type": "code",
   "execution_count": 66,
   "metadata": {},
   "outputs": [],
   "source": [
    "#Removing Type_c and Size on basis of high VIF\n",
    "new_merge1.drop(columns=['Type_C','Size'], axis=1, inplace=True)"
   ]
  },
  {
   "cell_type": "code",
   "execution_count": 67,
   "metadata": {},
   "outputs": [
    {
     "data": {
      "text/plain": [
       "(421570, 64)"
      ]
     },
     "execution_count": 67,
     "metadata": {},
     "output_type": "execute_result"
    }
   ],
   "source": [
    "new_merge1.shape"
   ]
  },
  {
   "cell_type": "markdown",
   "metadata": {},
   "source": [
    "## Now applying again the regression model"
   ]
  },
  {
   "cell_type": "code",
   "execution_count": 68,
   "metadata": {},
   "outputs": [],
   "source": [
    "train,test= train_test_split(new_merge1, test_size=0.25, random_state=0)\n",
    "my_formula=\"ln_Weekly_Sales~\"+ \"+\" .join(new_merge1.columns.difference(['ln_Weekly_Sales','Date','Weekly_Sales']))"
   ]
  },
  {
   "cell_type": "code",
   "execution_count": 69,
   "metadata": {},
   "outputs": [
    {
     "data": {
      "text/html": [
       "<table class=\"simpletable\">\n",
       "<caption>OLS Regression Results</caption>\n",
       "<tr>\n",
       "  <th>Dep. Variable:</th>     <td>ln_Weekly_Sales</td> <th>  R-squared:         </th>  <td>   0.618</td>  \n",
       "</tr>\n",
       "<tr>\n",
       "  <th>Model:</th>                   <td>OLS</td>       <th>  Adj. R-squared:    </th>  <td>   0.618</td>  \n",
       "</tr>\n",
       "<tr>\n",
       "  <th>Method:</th>             <td>Least Squares</td>  <th>  F-statistic:       </th>  <td>   8390.</td>  \n",
       "</tr>\n",
       "<tr>\n",
       "  <th>Date:</th>             <td>Tue, 30 Jun 2020</td> <th>  Prob (F-statistic):</th>   <td>  0.00</td>   \n",
       "</tr>\n",
       "<tr>\n",
       "  <th>Time:</th>                 <td>11:30:09</td>     <th>  Log-Likelihood:    </th> <td>-5.2287e+05</td>\n",
       "</tr>\n",
       "<tr>\n",
       "  <th>No. Observations:</th>      <td>316177</td>      <th>  AIC:               </th>  <td>1.046e+06</td> \n",
       "</tr>\n",
       "<tr>\n",
       "  <th>Df Residuals:</th>          <td>316115</td>      <th>  BIC:               </th>  <td>1.047e+06</td> \n",
       "</tr>\n",
       "<tr>\n",
       "  <th>Df Model:</th>              <td>    61</td>      <th>                     </th>      <td> </td>     \n",
       "</tr>\n",
       "<tr>\n",
       "  <th>Covariance Type:</th>      <td>nonrobust</td>    <th>                     </th>      <td> </td>     \n",
       "</tr>\n",
       "</table>\n",
       "<table class=\"simpletable\">\n",
       "<tr>\n",
       "      <td></td>         <th>coef</th>     <th>std err</th>      <th>t</th>      <th>P>|t|</th>  <th>[0.025</th>    <th>0.975]</th>  \n",
       "</tr>\n",
       "<tr>\n",
       "  <th>Intercept</th> <td>    8.9626</td> <td>    0.005</td> <td> 1841.965</td> <td> 0.000</td> <td>    8.953</td> <td>    8.972</td>\n",
       "</tr>\n",
       "<tr>\n",
       "  <th>Dept_12</th>   <td>   -0.8131</td> <td>    0.018</td> <td>  -43.954</td> <td> 0.000</td> <td>   -0.849</td> <td>   -0.777</td>\n",
       "</tr>\n",
       "<tr>\n",
       "  <th>Dept_13</th>   <td>    1.7017</td> <td>    0.018</td> <td>   92.080</td> <td> 0.000</td> <td>    1.665</td> <td>    1.738</td>\n",
       "</tr>\n",
       "<tr>\n",
       "  <th>Dept_18</th>   <td>   -2.0168</td> <td>    0.021</td> <td>  -96.291</td> <td> 0.000</td> <td>   -2.058</td> <td>   -1.976</td>\n",
       "</tr>\n",
       "<tr>\n",
       "  <th>Dept_19</th>   <td>   -2.2872</td> <td>    0.023</td> <td>  -98.906</td> <td> 0.000</td> <td>   -2.333</td> <td>   -2.242</td>\n",
       "</tr>\n",
       "<tr>\n",
       "  <th>Dept_2</th>    <td>    2.0114</td> <td>    0.019</td> <td>  108.457</td> <td> 0.000</td> <td>    1.975</td> <td>    2.048</td>\n",
       "</tr>\n",
       "<tr>\n",
       "  <th>Dept_23</th>   <td>    0.7713</td> <td>    0.019</td> <td>   39.793</td> <td> 0.000</td> <td>    0.733</td> <td>    0.809</td>\n",
       "</tr>\n",
       "<tr>\n",
       "  <th>Dept_27</th>   <td>   -1.7395</td> <td>    0.020</td> <td>  -87.885</td> <td> 0.000</td> <td>   -1.778</td> <td>   -1.701</td>\n",
       "</tr>\n",
       "<tr>\n",
       "  <th>Dept_28</th>   <td>   -2.5159</td> <td>    0.019</td> <td> -133.641</td> <td> 0.000</td> <td>   -2.553</td> <td>   -2.479</td>\n",
       "</tr>\n",
       "<tr>\n",
       "  <th>Dept_31</th>   <td>   -1.4615</td> <td>    0.019</td> <td>  -76.671</td> <td> 0.000</td> <td>   -1.499</td> <td>   -1.424</td>\n",
       "</tr>\n",
       "<tr>\n",
       "  <th>Dept_34</th>   <td>    0.6309</td> <td>    0.020</td> <td>   31.170</td> <td> 0.000</td> <td>    0.591</td> <td>    0.671</td>\n",
       "</tr>\n",
       "<tr>\n",
       "  <th>Dept_36</th>   <td>   -1.6035</td> <td>    0.020</td> <td>  -78.754</td> <td> 0.000</td> <td>   -1.643</td> <td>   -1.564</td>\n",
       "</tr>\n",
       "<tr>\n",
       "  <th>Dept_38</th>   <td>    2.4478</td> <td>    0.018</td> <td>  132.355</td> <td> 0.000</td> <td>    2.412</td> <td>    2.484</td>\n",
       "</tr>\n",
       "<tr>\n",
       "  <th>Dept_4</th>    <td>    1.5485</td> <td>    0.019</td> <td>   83.329</td> <td> 0.000</td> <td>    1.512</td> <td>    1.585</td>\n",
       "</tr>\n",
       "<tr>\n",
       "  <th>Dept_40</th>   <td>    2.0970</td> <td>    0.018</td> <td>  113.412</td> <td> 0.000</td> <td>    2.061</td> <td>    2.133</td>\n",
       "</tr>\n",
       "<tr>\n",
       "  <th>Dept_41</th>   <td>   -1.8486</td> <td>    0.020</td> <td>  -92.020</td> <td> 0.000</td> <td>   -1.888</td> <td>   -1.809</td>\n",
       "</tr>\n",
       "<tr>\n",
       "  <th>Dept_45</th>   <td>   -6.0553</td> <td>    0.033</td> <td> -183.144</td> <td> 0.000</td> <td>   -6.120</td> <td>   -5.990</td>\n",
       "</tr>\n",
       "<tr>\n",
       "  <th>Dept_46</th>   <td>    1.1754</td> <td>    0.019</td> <td>   63.400</td> <td> 0.000</td> <td>    1.139</td> <td>    1.212</td>\n",
       "</tr>\n",
       "<tr>\n",
       "  <th>Dept_47</th>   <td>   -5.8160</td> <td>    0.058</td> <td>  -99.633</td> <td> 0.000</td> <td>   -5.930</td> <td>   -5.702</td>\n",
       "</tr>\n",
       "<tr>\n",
       "  <th>Dept_48</th>   <td>   -2.3472</td> <td>    0.036</td> <td>  -65.683</td> <td> 0.000</td> <td>   -2.417</td> <td>   -2.277</td>\n",
       "</tr>\n",
       "<tr>\n",
       "  <th>Dept_51</th>   <td>   -6.1950</td> <td>    0.039</td> <td> -158.480</td> <td> 0.000</td> <td>   -6.272</td> <td>   -6.118</td>\n",
       "</tr>\n",
       "<tr>\n",
       "  <th>Dept_52</th>   <td>   -1.6568</td> <td>    0.019</td> <td>  -88.388</td> <td> 0.000</td> <td>   -1.694</td> <td>   -1.620</td>\n",
       "</tr>\n",
       "<tr>\n",
       "  <th>Dept_54</th>   <td>   -4.8136</td> <td>    0.021</td> <td> -225.801</td> <td> 0.000</td> <td>   -4.855</td> <td>   -4.772</td>\n",
       "</tr>\n",
       "<tr>\n",
       "  <th>Dept_56</th>   <td>   -1.4526</td> <td>    0.019</td> <td>  -74.956</td> <td> 0.000</td> <td>   -1.491</td> <td>   -1.415</td>\n",
       "</tr>\n",
       "<tr>\n",
       "  <th>Dept_59</th>   <td>   -2.9422</td> <td>    0.019</td> <td> -155.234</td> <td> 0.000</td> <td>   -2.979</td> <td>   -2.905</td>\n",
       "</tr>\n",
       "<tr>\n",
       "  <th>Dept_60</th>   <td>   -2.9348</td> <td>    0.019</td> <td> -151.356</td> <td> 0.000</td> <td>   -2.973</td> <td>   -2.897</td>\n",
       "</tr>\n",
       "<tr>\n",
       "  <th>Dept_72</th>   <td>    1.3939</td> <td>    0.019</td> <td>   73.194</td> <td> 0.000</td> <td>    1.357</td> <td>    1.431</td>\n",
       "</tr>\n",
       "<tr>\n",
       "  <th>Dept_78</th>   <td>   -6.7210</td> <td>    0.095</td> <td>  -71.050</td> <td> 0.000</td> <td>   -6.906</td> <td>   -6.536</td>\n",
       "</tr>\n",
       "<tr>\n",
       "  <th>Dept_79</th>   <td>    1.3038</td> <td>    0.018</td> <td>   70.735</td> <td> 0.000</td> <td>    1.268</td> <td>    1.340</td>\n",
       "</tr>\n",
       "<tr>\n",
       "  <th>Dept_8</th>    <td>    1.6364</td> <td>    0.018</td> <td>   88.779</td> <td> 0.000</td> <td>    1.600</td> <td>    1.673</td>\n",
       "</tr>\n",
       "<tr>\n",
       "  <th>Dept_81</th>   <td>    0.9429</td> <td>    0.018</td> <td>   51.032</td> <td> 0.000</td> <td>    0.907</td> <td>    0.979</td>\n",
       "</tr>\n",
       "<tr>\n",
       "  <th>Dept_82</th>   <td>    0.9858</td> <td>    0.018</td> <td>   53.461</td> <td> 0.000</td> <td>    0.950</td> <td>    1.022</td>\n",
       "</tr>\n",
       "<tr>\n",
       "  <th>Dept_83</th>   <td>   -0.8848</td> <td>    0.019</td> <td>  -45.957</td> <td> 0.000</td> <td>   -0.923</td> <td>   -0.847</td>\n",
       "</tr>\n",
       "<tr>\n",
       "  <th>Dept_85</th>   <td>   -1.3131</td> <td>    0.019</td> <td>  -69.131</td> <td> 0.000</td> <td>   -1.350</td> <td>   -1.276</td>\n",
       "</tr>\n",
       "<tr>\n",
       "  <th>Dept_90</th>   <td>    1.8403</td> <td>    0.018</td> <td>   99.501</td> <td> 0.000</td> <td>    1.804</td> <td>    1.877</td>\n",
       "</tr>\n",
       "<tr>\n",
       "  <th>Dept_91</th>   <td>    1.4244</td> <td>    0.018</td> <td>   77.072</td> <td> 0.000</td> <td>    1.388</td> <td>    1.461</td>\n",
       "</tr>\n",
       "<tr>\n",
       "  <th>Dept_92</th>   <td>    2.4147</td> <td>    0.018</td> <td>  130.799</td> <td> 0.000</td> <td>    2.379</td> <td>    2.451</td>\n",
       "</tr>\n",
       "<tr>\n",
       "  <th>Dept_93</th>   <td>    0.8630</td> <td>    0.019</td> <td>   44.516</td> <td> 0.000</td> <td>    0.825</td> <td>    0.901</td>\n",
       "</tr>\n",
       "<tr>\n",
       "  <th>Dept_95</th>   <td>    2.4899</td> <td>    0.018</td> <td>  134.675</td> <td> 0.000</td> <td>    2.454</td> <td>    2.526</td>\n",
       "</tr>\n",
       "<tr>\n",
       "  <th>Dept_98</th>   <td>   -1.2723</td> <td>    0.018</td> <td>  -70.616</td> <td> 0.000</td> <td>   -1.308</td> <td>   -1.237</td>\n",
       "</tr>\n",
       "<tr>\n",
       "  <th>MarkDown1</th> <td>-4.208e-06</td> <td> 7.82e-07</td> <td>   -5.380</td> <td> 0.000</td> <td>-5.74e-06</td> <td>-2.68e-06</td>\n",
       "</tr>\n",
       "<tr>\n",
       "  <th>MarkDown4</th> <td> 4.802e-06</td> <td> 1.16e-06</td> <td>    4.132</td> <td> 0.000</td> <td> 2.52e-06</td> <td> 7.08e-06</td>\n",
       "</tr>\n",
       "<tr>\n",
       "  <th>MarkDown5</th> <td> 3.302e-06</td> <td> 8.13e-07</td> <td>    4.063</td> <td> 0.000</td> <td> 1.71e-06</td> <td> 4.89e-06</td>\n",
       "</tr>\n",
       "<tr>\n",
       "  <th>Store_10</th>  <td>    0.8416</td> <td>    0.015</td> <td>   56.520</td> <td> 0.000</td> <td>    0.812</td> <td>    0.871</td>\n",
       "</tr>\n",
       "<tr>\n",
       "  <th>Store_13</th>  <td>    0.5300</td> <td>    0.015</td> <td>   35.608</td> <td> 0.000</td> <td>    0.501</td> <td>    0.559</td>\n",
       "</tr>\n",
       "<tr>\n",
       "  <th>Store_14</th>  <td>    0.4841</td> <td>    0.015</td> <td>   31.982</td> <td> 0.000</td> <td>    0.454</td> <td>    0.514</td>\n",
       "</tr>\n",
       "<tr>\n",
       "  <th>Store_2</th>   <td>    0.4941</td> <td>    0.015</td> <td>   32.976</td> <td> 0.000</td> <td>    0.465</td> <td>    0.523</td>\n",
       "</tr>\n",
       "<tr>\n",
       "  <th>Store_20</th>  <td>    0.5419</td> <td>    0.015</td> <td>   35.982</td> <td> 0.000</td> <td>    0.512</td> <td>    0.571</td>\n",
       "</tr>\n",
       "<tr>\n",
       "  <th>Store_27</th>  <td>    0.3547</td> <td>    0.015</td> <td>   23.666</td> <td> 0.000</td> <td>    0.325</td> <td>    0.384</td>\n",
       "</tr>\n",
       "<tr>\n",
       "  <th>Store_3</th>   <td>   -0.7378</td> <td>    0.016</td> <td>  -46.318</td> <td> 0.000</td> <td>   -0.769</td> <td>   -0.707</td>\n",
       "</tr>\n",
       "<tr>\n",
       "  <th>Store_30</th>  <td>   -2.2180</td> <td>    0.018</td> <td> -124.715</td> <td> 0.000</td> <td>   -2.253</td> <td>   -2.183</td>\n",
       "</tr>\n",
       "<tr>\n",
       "  <th>Store_33</th>  <td>   -2.5981</td> <td>    0.019</td> <td> -139.245</td> <td> 0.000</td> <td>   -2.635</td> <td>   -2.561</td>\n",
       "</tr>\n",
       "<tr>\n",
       "  <th>Store_36</th>  <td>   -2.1267</td> <td>    0.019</td> <td> -112.463</td> <td> 0.000</td> <td>   -2.164</td> <td>   -2.090</td>\n",
       "</tr>\n",
       "<tr>\n",
       "  <th>Store_37</th>  <td>   -1.7414</td> <td>    0.018</td> <td>  -98.953</td> <td> 0.000</td> <td>   -1.776</td> <td>   -1.707</td>\n",
       "</tr>\n",
       "<tr>\n",
       "  <th>Store_38</th>  <td>   -2.3583</td> <td>    0.018</td> <td> -133.819</td> <td> 0.000</td> <td>   -2.393</td> <td>   -2.324</td>\n",
       "</tr>\n",
       "<tr>\n",
       "  <th>Store_4</th>   <td>    0.5689</td> <td>    0.015</td> <td>   37.822</td> <td> 0.000</td> <td>    0.539</td> <td>    0.598</td>\n",
       "</tr>\n",
       "<tr>\n",
       "  <th>Store_42</th>  <td>   -1.8093</td> <td>    0.018</td> <td>  -99.956</td> <td> 0.000</td> <td>   -1.845</td> <td>   -1.774</td>\n",
       "</tr>\n",
       "<tr>\n",
       "  <th>Store_43</th>  <td>   -1.7683</td> <td>    0.018</td> <td>  -96.558</td> <td> 0.000</td> <td>   -1.804</td> <td>   -1.732</td>\n",
       "</tr>\n",
       "<tr>\n",
       "  <th>Store_44</th>  <td>   -2.4135</td> <td>    0.018</td> <td> -135.031</td> <td> 0.000</td> <td>   -2.449</td> <td>   -2.378</td>\n",
       "</tr>\n",
       "<tr>\n",
       "  <th>Store_5</th>   <td>   -0.8801</td> <td>    0.016</td> <td>  -55.210</td> <td> 0.000</td> <td>   -0.911</td> <td>   -0.849</td>\n",
       "</tr>\n",
       "<tr>\n",
       "  <th>Store_6</th>   <td>    0.3883</td> <td>    0.015</td> <td>   25.938</td> <td> 0.000</td> <td>    0.359</td> <td>    0.418</td>\n",
       "</tr>\n",
       "<tr>\n",
       "  <th>Type_B</th>    <td>   -0.4571</td> <td>    0.006</td> <td>  -80.372</td> <td> 0.000</td> <td>   -0.468</td> <td>   -0.446</td>\n",
       "</tr>\n",
       "</table>\n",
       "<table class=\"simpletable\">\n",
       "<tr>\n",
       "  <th>Omnibus:</th>       <td>91310.429</td> <th>  Durbin-Watson:     </th>  <td>   2.000</td> \n",
       "</tr>\n",
       "<tr>\n",
       "  <th>Prob(Omnibus):</th>  <td> 0.000</td>   <th>  Jarque-Bera (JB):  </th> <td>437493.828</td>\n",
       "</tr>\n",
       "<tr>\n",
       "  <th>Skew:</th>           <td>-1.329</td>   <th>  Prob(JB):          </th>  <td>    0.00</td> \n",
       "</tr>\n",
       "<tr>\n",
       "  <th>Kurtosis:</th>       <td> 8.113</td>   <th>  Cond. No.          </th>  <td>3.08e+05</td> \n",
       "</tr>\n",
       "</table><br/><br/>Warnings:<br/>[1] Standard Errors assume that the covariance matrix of the errors is correctly specified.<br/>[2] The condition number is large, 3.08e+05. This might indicate that there are<br/>strong multicollinearity or other numerical problems."
      ],
      "text/plain": [
       "<class 'statsmodels.iolib.summary.Summary'>\n",
       "\"\"\"\n",
       "                            OLS Regression Results                            \n",
       "==============================================================================\n",
       "Dep. Variable:        ln_Weekly_Sales   R-squared:                       0.618\n",
       "Model:                            OLS   Adj. R-squared:                  0.618\n",
       "Method:                 Least Squares   F-statistic:                     8390.\n",
       "Date:                Tue, 30 Jun 2020   Prob (F-statistic):               0.00\n",
       "Time:                        11:30:09   Log-Likelihood:            -5.2287e+05\n",
       "No. Observations:              316177   AIC:                         1.046e+06\n",
       "Df Residuals:                  316115   BIC:                         1.047e+06\n",
       "Df Model:                          61                                         \n",
       "Covariance Type:            nonrobust                                         \n",
       "==============================================================================\n",
       "                 coef    std err          t      P>|t|      [0.025      0.975]\n",
       "------------------------------------------------------------------------------\n",
       "Intercept      8.9626      0.005   1841.965      0.000       8.953       8.972\n",
       "Dept_12       -0.8131      0.018    -43.954      0.000      -0.849      -0.777\n",
       "Dept_13        1.7017      0.018     92.080      0.000       1.665       1.738\n",
       "Dept_18       -2.0168      0.021    -96.291      0.000      -2.058      -1.976\n",
       "Dept_19       -2.2872      0.023    -98.906      0.000      -2.333      -2.242\n",
       "Dept_2         2.0114      0.019    108.457      0.000       1.975       2.048\n",
       "Dept_23        0.7713      0.019     39.793      0.000       0.733       0.809\n",
       "Dept_27       -1.7395      0.020    -87.885      0.000      -1.778      -1.701\n",
       "Dept_28       -2.5159      0.019   -133.641      0.000      -2.553      -2.479\n",
       "Dept_31       -1.4615      0.019    -76.671      0.000      -1.499      -1.424\n",
       "Dept_34        0.6309      0.020     31.170      0.000       0.591       0.671\n",
       "Dept_36       -1.6035      0.020    -78.754      0.000      -1.643      -1.564\n",
       "Dept_38        2.4478      0.018    132.355      0.000       2.412       2.484\n",
       "Dept_4         1.5485      0.019     83.329      0.000       1.512       1.585\n",
       "Dept_40        2.0970      0.018    113.412      0.000       2.061       2.133\n",
       "Dept_41       -1.8486      0.020    -92.020      0.000      -1.888      -1.809\n",
       "Dept_45       -6.0553      0.033   -183.144      0.000      -6.120      -5.990\n",
       "Dept_46        1.1754      0.019     63.400      0.000       1.139       1.212\n",
       "Dept_47       -5.8160      0.058    -99.633      0.000      -5.930      -5.702\n",
       "Dept_48       -2.3472      0.036    -65.683      0.000      -2.417      -2.277\n",
       "Dept_51       -6.1950      0.039   -158.480      0.000      -6.272      -6.118\n",
       "Dept_52       -1.6568      0.019    -88.388      0.000      -1.694      -1.620\n",
       "Dept_54       -4.8136      0.021   -225.801      0.000      -4.855      -4.772\n",
       "Dept_56       -1.4526      0.019    -74.956      0.000      -1.491      -1.415\n",
       "Dept_59       -2.9422      0.019   -155.234      0.000      -2.979      -2.905\n",
       "Dept_60       -2.9348      0.019   -151.356      0.000      -2.973      -2.897\n",
       "Dept_72        1.3939      0.019     73.194      0.000       1.357       1.431\n",
       "Dept_78       -6.7210      0.095    -71.050      0.000      -6.906      -6.536\n",
       "Dept_79        1.3038      0.018     70.735      0.000       1.268       1.340\n",
       "Dept_8         1.6364      0.018     88.779      0.000       1.600       1.673\n",
       "Dept_81        0.9429      0.018     51.032      0.000       0.907       0.979\n",
       "Dept_82        0.9858      0.018     53.461      0.000       0.950       1.022\n",
       "Dept_83       -0.8848      0.019    -45.957      0.000      -0.923      -0.847\n",
       "Dept_85       -1.3131      0.019    -69.131      0.000      -1.350      -1.276\n",
       "Dept_90        1.8403      0.018     99.501      0.000       1.804       1.877\n",
       "Dept_91        1.4244      0.018     77.072      0.000       1.388       1.461\n",
       "Dept_92        2.4147      0.018    130.799      0.000       2.379       2.451\n",
       "Dept_93        0.8630      0.019     44.516      0.000       0.825       0.901\n",
       "Dept_95        2.4899      0.018    134.675      0.000       2.454       2.526\n",
       "Dept_98       -1.2723      0.018    -70.616      0.000      -1.308      -1.237\n",
       "MarkDown1  -4.208e-06   7.82e-07     -5.380      0.000   -5.74e-06   -2.68e-06\n",
       "MarkDown4   4.802e-06   1.16e-06      4.132      0.000    2.52e-06    7.08e-06\n",
       "MarkDown5   3.302e-06   8.13e-07      4.063      0.000    1.71e-06    4.89e-06\n",
       "Store_10       0.8416      0.015     56.520      0.000       0.812       0.871\n",
       "Store_13       0.5300      0.015     35.608      0.000       0.501       0.559\n",
       "Store_14       0.4841      0.015     31.982      0.000       0.454       0.514\n",
       "Store_2        0.4941      0.015     32.976      0.000       0.465       0.523\n",
       "Store_20       0.5419      0.015     35.982      0.000       0.512       0.571\n",
       "Store_27       0.3547      0.015     23.666      0.000       0.325       0.384\n",
       "Store_3       -0.7378      0.016    -46.318      0.000      -0.769      -0.707\n",
       "Store_30      -2.2180      0.018   -124.715      0.000      -2.253      -2.183\n",
       "Store_33      -2.5981      0.019   -139.245      0.000      -2.635      -2.561\n",
       "Store_36      -2.1267      0.019   -112.463      0.000      -2.164      -2.090\n",
       "Store_37      -1.7414      0.018    -98.953      0.000      -1.776      -1.707\n",
       "Store_38      -2.3583      0.018   -133.819      0.000      -2.393      -2.324\n",
       "Store_4        0.5689      0.015     37.822      0.000       0.539       0.598\n",
       "Store_42      -1.8093      0.018    -99.956      0.000      -1.845      -1.774\n",
       "Store_43      -1.7683      0.018    -96.558      0.000      -1.804      -1.732\n",
       "Store_44      -2.4135      0.018   -135.031      0.000      -2.449      -2.378\n",
       "Store_5       -0.8801      0.016    -55.210      0.000      -0.911      -0.849\n",
       "Store_6        0.3883      0.015     25.938      0.000       0.359       0.418\n",
       "Type_B        -0.4571      0.006    -80.372      0.000      -0.468      -0.446\n",
       "==============================================================================\n",
       "Omnibus:                    91310.429   Durbin-Watson:                   2.000\n",
       "Prob(Omnibus):                  0.000   Jarque-Bera (JB):           437493.828\n",
       "Skew:                          -1.329   Prob(JB):                         0.00\n",
       "Kurtosis:                       8.113   Cond. No.                     3.08e+05\n",
       "==============================================================================\n",
       "\n",
       "Warnings:\n",
       "[1] Standard Errors assume that the covariance matrix of the errors is correctly specified.\n",
       "[2] The condition number is large, 3.08e+05. This might indicate that there are\n",
       "strong multicollinearity or other numerical problems.\n",
       "\"\"\""
      ]
     },
     "execution_count": 69,
     "metadata": {},
     "output_type": "execute_result"
    }
   ],
   "source": [
    "lm2=smf.ols(formula=my_formula, data=train).fit()\n",
    "lm2.summary()"
   ]
  },
  {
   "cell_type": "markdown",
   "metadata": {},
   "source": [
    "## Now we will predict the values"
   ]
  },
  {
   "cell_type": "code",
   "execution_count": 70,
   "metadata": {},
   "outputs": [],
   "source": [
    "train['y_predict']=lm2.predict(train)\n",
    "test['y_predict_test']=lm2.predict(test)"
   ]
  },
  {
   "cell_type": "code",
   "execution_count": 71,
   "metadata": {},
   "outputs": [
    {
     "name": "stdout",
     "output_type": "stream",
     "text": [
      "RMSE_train :  1.2646568687482136\n",
      "RMSE_test :  1.263865046454251\n"
     ]
    }
   ],
   "source": [
    "## Now we will find the accuracy of train and test models.\n",
    "from sklearn import metrics\n",
    "\n",
    "RMSE_train=np.sqrt(metrics.mean_squared_error(train.ln_Weekly_Sales,train.y_predict))\n",
    "RMSE_test=np.sqrt(metrics.mean_squared_error(test.ln_Weekly_Sales,test.y_predict_test))\n",
    "\n",
    "print(\"RMSE_train : \", RMSE_train )\n",
    "print(\"RMSE_test : \", RMSE_test )"
   ]
  },
  {
   "cell_type": "code",
   "execution_count": 72,
   "metadata": {},
   "outputs": [
    {
     "name": "stdout",
     "output_type": "stream",
     "text": [
      "MAPE_train: 15.308452404037094\n",
      "\n",
      "MAPE_test: 15.227953245952309\n"
     ]
    }
   ],
   "source": [
    "MAPE_train = np.mean(abs(train.ln_Weekly_Sales - train.y_predict)*100 / train.ln_Weekly_Sales)\n",
    "print('MAPE_train:', MAPE_train)\n",
    "\n",
    "MAPE_test = np.mean(abs(test.ln_Weekly_Sales - test.y_predict_test)*100 / test.ln_Weekly_Sales)\n",
    "print('\\nMAPE_test:', MAPE_test)"
   ]
  },
  {
   "cell_type": "code",
   "execution_count": 73,
   "metadata": {},
   "outputs": [
    {
     "data": {
      "text/html": [
       "<div>\n",
       "<style scoped>\n",
       "    .dataframe tbody tr th:only-of-type {\n",
       "        vertical-align: middle;\n",
       "    }\n",
       "\n",
       "    .dataframe tbody tr th {\n",
       "        vertical-align: top;\n",
       "    }\n",
       "\n",
       "    .dataframe thead th {\n",
       "        text-align: right;\n",
       "    }\n",
       "</style>\n",
       "<table border=\"1\" class=\"dataframe\">\n",
       "  <thead>\n",
       "    <tr style=\"text-align: right;\">\n",
       "      <th></th>\n",
       "      <th>VIF</th>\n",
       "      <th>features</th>\n",
       "    </tr>\n",
       "  </thead>\n",
       "  <tbody>\n",
       "    <tr>\n",
       "      <th>0</th>\n",
       "      <td>4.679550</td>\n",
       "      <td>Intercept</td>\n",
       "    </tr>\n",
       "    <tr>\n",
       "      <th>40</th>\n",
       "      <td>3.790999</td>\n",
       "      <td>MarkDown1</td>\n",
       "    </tr>\n",
       "    <tr>\n",
       "      <th>41</th>\n",
       "      <td>3.185119</td>\n",
       "      <td>MarkDown4</td>\n",
       "    </tr>\n",
       "    <tr>\n",
       "      <th>61</th>\n",
       "      <td>1.518299</td>\n",
       "      <td>Type_B</td>\n",
       "    </tr>\n",
       "    <tr>\n",
       "      <th>42</th>\n",
       "      <td>1.431669</td>\n",
       "      <td>MarkDown5</td>\n",
       "    </tr>\n",
       "  </tbody>\n",
       "</table>\n",
       "</div>"
      ],
      "text/plain": [
       "         VIF   features\n",
       "0   4.679550  Intercept\n",
       "40  3.790999  MarkDown1\n",
       "41  3.185119  MarkDown4\n",
       "61  1.518299     Type_B\n",
       "42  1.431669  MarkDown5"
      ]
     },
     "execution_count": 73,
     "metadata": {},
     "output_type": "execute_result"
    }
   ],
   "source": [
    "## Now,again checking the VIF score\n",
    "y, X= dmatrices(my_formula, train, return_type='dataframe')\n",
    "\n",
    "# for each X.columns , we will calculate the VIF score\n",
    "\n",
    "dict={'VIF':[variance_inflation_factor(X.values,i) for i in range(X.shape[1])],\n",
    "       'features': (X.columns)}\n",
    "\n",
    "vif=pd.DataFrame(dict)\n",
    "vif.sort_values('VIF', ascending=False).head(5)"
   ]
  },
  {
   "cell_type": "code",
   "execution_count": 74,
   "metadata": {},
   "outputs": [
    {
     "data": {
      "text/plain": [
       "(421570, 64)"
      ]
     },
     "execution_count": 74,
     "metadata": {},
     "output_type": "execute_result"
    }
   ],
   "source": [
    "new_merge1.shape"
   ]
  },
  {
   "cell_type": "code",
   "execution_count": 75,
   "metadata": {},
   "outputs": [
    {
     "data": {
      "text/plain": [
       "140387   -5.133378\n",
       "105652    0.276885\n",
       "73498    -1.098156\n",
       "203354    0.752131\n",
       "329039    1.913388\n",
       "            ...   \n",
       "359783    2.200391\n",
       "358083    0.446773\n",
       "152315   -0.476711\n",
       "117952   -0.145691\n",
       "305711    1.487631\n",
       "Length: 316177, dtype: float64"
      ]
     },
     "execution_count": 75,
     "metadata": {},
     "output_type": "execute_result"
    }
   ],
   "source": [
    "lm2.resid ## The difference between the observed value of the dependent variable (y) \n",
    "                               ## and the predicted value (ŷ) is called the residual."
   ]
  },
  {
   "cell_type": "code",
   "execution_count": 76,
   "metadata": {},
   "outputs": [
    {
     "data": {
      "text/plain": [
       "<matplotlib.axes._subplots.AxesSubplot at 0x1ee32c9bac8>"
      ]
     },
     "execution_count": 76,
     "metadata": {},
     "output_type": "execute_result"
    },
    {
     "data": {
      "image/png": "[encoded data removed]",
      "text/plain": [
       "<Figure size 720x540 with 1 Axes>"
      ]
     },
     "metadata": {
      "needs_background": "light"
     },
     "output_type": "display_data"
    }
   ],
   "source": [
    "sn.distplot(lm2.resid) ## polotting residuals"
   ]
  },
  {
   "cell_type": "code",
   "execution_count": 77,
   "metadata": {},
   "outputs": [
    {
     "data": {
      "image/png": "[encoded data removed]",
      "text/plain": [
       "<Figure size 720x540 with 1 Axes>"
      ]
     },
     "metadata": {
      "needs_background": "light"
     },
     "output_type": "display_data"
    }
   ],
   "source": [
    "# assumption: Normality of the residuals/error (using Q-Q plot)\n",
    "from scipy import stats\n",
    "import pylab\n",
    "\n",
    "stats.probplot(lm2.resid, dist = 'norm', plot = pylab)\n",
    "pylab.show()\n",
    "\n",
    "# If errors are normally and randomly distributed, they would be following a straight line pattern\n",
    "# Q-Q plot shows if the residuals are plotted along the line"
   ]
  },
  {
   "cell_type": "markdown",
   "metadata": {},
   "source": [
    "## Now testing data set"
   ]
  },
  {
   "cell_type": "code",
   "execution_count": 78,
   "metadata": {},
   "outputs": [],
   "source": [
    "stores=pd.read_csv(\"C:\\\\Users\\\\tavleen kaur\\\\Desktop\\\\0b. Assignments & Case Studies\\\\New folder (2)\\\\Walmart Store Sales Forecasting\\\\stores.csv\")\n",
    "\n",
    "t=pd.read_csv(\"C:\\\\Users\\\\tavleen kaur\\\\Desktop\\\\0b. Assignments & Case Studies\\\\New folder (2)\\\\Walmart Store Sales Forecasting\\\\test.csv\")\n",
    "\n",
    "features=pd.read_csv(\"C:\\\\Users\\\\tavleen kaur\\\\Desktop\\\\0b. Assignments & Case Studies\\\\New folder (2)\\\\Walmart Store Sales Forecasting\\\\features.csv\")"
   ]
  },
  {
   "cell_type": "code",
   "execution_count": 79,
   "metadata": {},
   "outputs": [],
   "source": [
    "# Now, merge the data sets\n",
    "tt=pd.merge(t,stores)\n",
    "merge2=pd.merge(tt,features)"
   ]
  },
  {
   "cell_type": "code",
   "execution_count": 80,
   "metadata": {},
   "outputs": [
    {
     "data": {
      "text/html": [
       "<div>\n",
       "<style scoped>\n",
       "    .dataframe tbody tr th:only-of-type {\n",
       "        vertical-align: middle;\n",
       "    }\n",
       "\n",
       "    .dataframe tbody tr th {\n",
       "        vertical-align: top;\n",
       "    }\n",
       "\n",
       "    .dataframe thead th {\n",
       "        text-align: right;\n",
       "    }\n",
       "</style>\n",
       "<table border=\"1\" class=\"dataframe\">\n",
       "  <thead>\n",
       "    <tr style=\"text-align: right;\">\n",
       "      <th></th>\n",
       "      <th>Store</th>\n",
       "      <th>Dept</th>\n",
       "      <th>Date</th>\n",
       "      <th>IsHoliday</th>\n",
       "      <th>Type</th>\n",
       "      <th>Size</th>\n",
       "      <th>Temperature</th>\n",
       "      <th>Fuel_Price</th>\n",
       "      <th>MarkDown1</th>\n",
       "      <th>MarkDown2</th>\n",
       "      <th>MarkDown3</th>\n",
       "      <th>MarkDown4</th>\n",
       "      <th>MarkDown5</th>\n",
       "      <th>CPI</th>\n",
       "      <th>Unemployment</th>\n",
       "    </tr>\n",
       "  </thead>\n",
       "  <tbody>\n",
       "    <tr>\n",
       "      <th>0</th>\n",
       "      <td>1</td>\n",
       "      <td>1</td>\n",
       "      <td>2012-11-02</td>\n",
       "      <td>False</td>\n",
       "      <td>A</td>\n",
       "      <td>151315</td>\n",
       "      <td>55.32</td>\n",
       "      <td>3.386</td>\n",
       "      <td>6766.44</td>\n",
       "      <td>5147.7</td>\n",
       "      <td>50.82</td>\n",
       "      <td>3639.9</td>\n",
       "      <td>2737.42</td>\n",
       "      <td>223.462779</td>\n",
       "      <td>6.573</td>\n",
       "    </tr>\n",
       "    <tr>\n",
       "      <th>1</th>\n",
       "      <td>1</td>\n",
       "      <td>2</td>\n",
       "      <td>2012-11-02</td>\n",
       "      <td>False</td>\n",
       "      <td>A</td>\n",
       "      <td>151315</td>\n",
       "      <td>55.32</td>\n",
       "      <td>3.386</td>\n",
       "      <td>6766.44</td>\n",
       "      <td>5147.7</td>\n",
       "      <td>50.82</td>\n",
       "      <td>3639.9</td>\n",
       "      <td>2737.42</td>\n",
       "      <td>223.462779</td>\n",
       "      <td>6.573</td>\n",
       "    </tr>\n",
       "    <tr>\n",
       "      <th>2</th>\n",
       "      <td>1</td>\n",
       "      <td>3</td>\n",
       "      <td>2012-11-02</td>\n",
       "      <td>False</td>\n",
       "      <td>A</td>\n",
       "      <td>151315</td>\n",
       "      <td>55.32</td>\n",
       "      <td>3.386</td>\n",
       "      <td>6766.44</td>\n",
       "      <td>5147.7</td>\n",
       "      <td>50.82</td>\n",
       "      <td>3639.9</td>\n",
       "      <td>2737.42</td>\n",
       "      <td>223.462779</td>\n",
       "      <td>6.573</td>\n",
       "    </tr>\n",
       "    <tr>\n",
       "      <th>3</th>\n",
       "      <td>1</td>\n",
       "      <td>4</td>\n",
       "      <td>2012-11-02</td>\n",
       "      <td>False</td>\n",
       "      <td>A</td>\n",
       "      <td>151315</td>\n",
       "      <td>55.32</td>\n",
       "      <td>3.386</td>\n",
       "      <td>6766.44</td>\n",
       "      <td>5147.7</td>\n",
       "      <td>50.82</td>\n",
       "      <td>3639.9</td>\n",
       "      <td>2737.42</td>\n",
       "      <td>223.462779</td>\n",
       "      <td>6.573</td>\n",
       "    </tr>\n",
       "    <tr>\n",
       "      <th>4</th>\n",
       "      <td>1</td>\n",
       "      <td>5</td>\n",
       "      <td>2012-11-02</td>\n",
       "      <td>False</td>\n",
       "      <td>A</td>\n",
       "      <td>151315</td>\n",
       "      <td>55.32</td>\n",
       "      <td>3.386</td>\n",
       "      <td>6766.44</td>\n",
       "      <td>5147.7</td>\n",
       "      <td>50.82</td>\n",
       "      <td>3639.9</td>\n",
       "      <td>2737.42</td>\n",
       "      <td>223.462779</td>\n",
       "      <td>6.573</td>\n",
       "    </tr>\n",
       "  </tbody>\n",
       "</table>\n",
       "</div>"
      ],
      "text/plain": [
       "   Store  Dept        Date  IsHoliday Type    Size  Temperature  Fuel_Price  \\\n",
       "0      1     1  2012-11-02      False    A  151315        55.32       3.386   \n",
       "1      1     2  2012-11-02      False    A  151315        55.32       3.386   \n",
       "2      1     3  2012-11-02      False    A  151315        55.32       3.386   \n",
       "3      1     4  2012-11-02      False    A  151315        55.32       3.386   \n",
       "4      1     5  2012-11-02      False    A  151315        55.32       3.386   \n",
       "\n",
       "   MarkDown1  MarkDown2  MarkDown3  MarkDown4  MarkDown5         CPI  \\\n",
       "0    6766.44     5147.7      50.82     3639.9    2737.42  223.462779   \n",
       "1    6766.44     5147.7      50.82     3639.9    2737.42  223.462779   \n",
       "2    6766.44     5147.7      50.82     3639.9    2737.42  223.462779   \n",
       "3    6766.44     5147.7      50.82     3639.9    2737.42  223.462779   \n",
       "4    6766.44     5147.7      50.82     3639.9    2737.42  223.462779   \n",
       "\n",
       "   Unemployment  \n",
       "0         6.573  \n",
       "1         6.573  \n",
       "2         6.573  \n",
       "3         6.573  \n",
       "4         6.573  "
      ]
     },
     "execution_count": 80,
     "metadata": {},
     "output_type": "execute_result"
    }
   ],
   "source": [
    "merge2.head()"
   ]
  },
  {
   "cell_type": "code",
   "execution_count": 81,
   "metadata": {},
   "outputs": [
    {
     "data": {
      "text/plain": [
       "(115064, 15)"
      ]
     },
     "execution_count": 81,
     "metadata": {},
     "output_type": "execute_result"
    }
   ],
   "source": [
    "merge2.shape"
   ]
  },
  {
   "cell_type": "code",
   "execution_count": 82,
   "metadata": {},
   "outputs": [
    {
     "data": {
      "text/plain": [
       "Store               0\n",
       "Dept                0\n",
       "Date                0\n",
       "IsHoliday           0\n",
       "Type                0\n",
       "Size                0\n",
       "Temperature         0\n",
       "Fuel_Price          0\n",
       "MarkDown1         149\n",
       "MarkDown2       28627\n",
       "MarkDown3        9829\n",
       "MarkDown4       12888\n",
       "MarkDown5           0\n",
       "CPI             38162\n",
       "Unemployment    38162\n",
       "dtype: int64"
      ]
     },
     "execution_count": 82,
     "metadata": {},
     "output_type": "execute_result"
    }
   ],
   "source": [
    "merge2.isna().sum()"
   ]
  },
  {
   "cell_type": "code",
   "execution_count": 83,
   "metadata": {},
   "outputs": [
    {
     "name": "stdout",
     "output_type": "stream",
     "text": [
      "<class 'pandas.core.frame.DataFrame'>\n",
      "Int64Index: 115064 entries, 0 to 115063\n",
      "Data columns (total 15 columns):\n",
      " #   Column        Non-Null Count   Dtype  \n",
      "---  ------        --------------   -----  \n",
      " 0   Store         115064 non-null  int64  \n",
      " 1   Dept          115064 non-null  int64  \n",
      " 2   Date          115064 non-null  object \n",
      " 3   IsHoliday     115064 non-null  bool   \n",
      " 4   Type          115064 non-null  object \n",
      " 5   Size          115064 non-null  int64  \n",
      " 6   Temperature   115064 non-null  float64\n",
      " 7   Fuel_Price    115064 non-null  float64\n",
      " 8   MarkDown1     114915 non-null  float64\n",
      " 9   MarkDown2     86437 non-null   float64\n",
      " 10  MarkDown3     105235 non-null  float64\n",
      " 11  MarkDown4     102176 non-null  float64\n",
      " 12  MarkDown5     115064 non-null  float64\n",
      " 13  CPI           76902 non-null   float64\n",
      " 14  Unemployment  76902 non-null   float64\n",
      "dtypes: bool(1), float64(9), int64(3), object(2)\n",
      "memory usage: 13.3+ MB\n"
     ]
    }
   ],
   "source": [
    "merge2.info()"
   ]
  },
  {
   "cell_type": "markdown",
   "metadata": {},
   "source": [
    "## DATA TYPE CONVERSIONS"
   ]
  },
  {
   "cell_type": "code",
   "execution_count": 84,
   "metadata": {},
   "outputs": [
    {
     "data": {
      "text/plain": [
       "dtype('<M8[ns]')"
      ]
     },
     "execution_count": 84,
     "metadata": {},
     "output_type": "execute_result"
    }
   ],
   "source": [
    "merge2['Date']=pd.to_datetime(merge2['Date'])\n",
    "(merge2['Date']).dtype"
   ]
  },
  {
   "cell_type": "code",
   "execution_count": 85,
   "metadata": {},
   "outputs": [],
   "source": [
    "merge2['IsHoliday']=np.where(merge2['IsHoliday']==True,1,merge2['IsHoliday'])\n",
    "merge2['IsHoliday']=np.where(merge2['IsHoliday']==True,0,merge2['IsHoliday'])"
   ]
  },
  {
   "cell_type": "code",
   "execution_count": 86,
   "metadata": {},
   "outputs": [
    {
     "data": {
      "text/plain": [
       "Store                    int64\n",
       "Dept                     int64\n",
       "Date            datetime64[ns]\n",
       "IsHoliday                int32\n",
       "Type                    object\n",
       "Size                     int64\n",
       "Temperature            float64\n",
       "Fuel_Price             float64\n",
       "MarkDown1              float64\n",
       "MarkDown2              float64\n",
       "MarkDown3              float64\n",
       "MarkDown4              float64\n",
       "MarkDown5              float64\n",
       "CPI                    float64\n",
       "Unemployment           float64\n",
       "dtype: object"
      ]
     },
     "execution_count": 86,
     "metadata": {},
     "output_type": "execute_result"
    }
   ],
   "source": [
    "merge2.dtypes"
   ]
  },
  {
   "cell_type": "markdown",
   "metadata": {},
   "source": [
    "# now splitting the variables"
   ]
  },
  {
   "cell_type": "code",
   "execution_count": 87,
   "metadata": {},
   "outputs": [],
   "source": [
    "continous=merge2.loc[:, ((merge2.dtypes=='int64')|(merge2.dtypes=='int32')| (merge2.dtypes=='float64'))]\n",
    "categorical=merge2.loc[:,(merge2.dtypes=='object')]\n",
    "date2=merge2.loc[:, (merge2.dtypes=='datetime64[ns]')]"
   ]
  },
  {
   "cell_type": "code",
   "execution_count": 88,
   "metadata": {},
   "outputs": [
    {
     "data": {
      "text/plain": [
       "(115064, 13)"
      ]
     },
     "execution_count": 88,
     "metadata": {},
     "output_type": "execute_result"
    }
   ],
   "source": [
    "continous.shape"
   ]
  },
  {
   "cell_type": "code",
   "execution_count": 89,
   "metadata": {},
   "outputs": [
    {
     "data": {
      "text/plain": [
       "(115064, 1)"
      ]
     },
     "execution_count": 89,
     "metadata": {},
     "output_type": "execute_result"
    }
   ],
   "source": [
    "categorical.shape"
   ]
  },
  {
   "cell_type": "code",
   "execution_count": 90,
   "metadata": {},
   "outputs": [
    {
     "data": {
      "text/plain": [
       "(115064, 1)"
      ]
     },
     "execution_count": 90,
     "metadata": {},
     "output_type": "execute_result"
    }
   ],
   "source": [
    "date2.shape"
   ]
  },
  {
   "cell_type": "code",
   "execution_count": 91,
   "metadata": {},
   "outputs": [
    {
     "data": {
      "text/html": [
       "<div>\n",
       "<style scoped>\n",
       "    .dataframe tbody tr th:only-of-type {\n",
       "        vertical-align: middle;\n",
       "    }\n",
       "\n",
       "    .dataframe tbody tr th {\n",
       "        vertical-align: top;\n",
       "    }\n",
       "\n",
       "    .dataframe thead th {\n",
       "        text-align: right;\n",
       "    }\n",
       "</style>\n",
       "<table border=\"1\" class=\"dataframe\">\n",
       "  <thead>\n",
       "    <tr style=\"text-align: right;\">\n",
       "      <th></th>\n",
       "      <th>COUNT</th>\n",
       "      <th>N</th>\n",
       "      <th>MEAN</th>\n",
       "      <th>MEDIAN</th>\n",
       "      <th>P1</th>\n",
       "      <th>P5</th>\n",
       "      <th>P10</th>\n",
       "      <th>P50</th>\n",
       "      <th>P75</th>\n",
       "      <th>P90</th>\n",
       "      <th>P95</th>\n",
       "      <th>P99</th>\n",
       "    </tr>\n",
       "  </thead>\n",
       "  <tbody>\n",
       "    <tr>\n",
       "      <th>Store</th>\n",
       "      <td>115064.0</td>\n",
       "      <td>0.0</td>\n",
       "      <td>22.24</td>\n",
       "      <td>22.00</td>\n",
       "      <td>1.00</td>\n",
       "      <td>3.00</td>\n",
       "      <td>5.00</td>\n",
       "      <td>22.00</td>\n",
       "      <td>33.00</td>\n",
       "      <td>40.00</td>\n",
       "      <td>43.00</td>\n",
       "      <td>45.00</td>\n",
       "    </tr>\n",
       "    <tr>\n",
       "      <th>Dept</th>\n",
       "      <td>115064.0</td>\n",
       "      <td>0.0</td>\n",
       "      <td>44.34</td>\n",
       "      <td>37.00</td>\n",
       "      <td>1.00</td>\n",
       "      <td>4.00</td>\n",
       "      <td>7.00</td>\n",
       "      <td>37.00</td>\n",
       "      <td>74.00</td>\n",
       "      <td>92.00</td>\n",
       "      <td>95.00</td>\n",
       "      <td>98.00</td>\n",
       "    </tr>\n",
       "    <tr>\n",
       "      <th>IsHoliday</th>\n",
       "      <td>115064.0</td>\n",
       "      <td>0.0</td>\n",
       "      <td>0.00</td>\n",
       "      <td>0.00</td>\n",
       "      <td>0.00</td>\n",
       "      <td>0.00</td>\n",
       "      <td>0.00</td>\n",
       "      <td>0.00</td>\n",
       "      <td>0.00</td>\n",
       "      <td>0.00</td>\n",
       "      <td>0.00</td>\n",
       "      <td>0.00</td>\n",
       "    </tr>\n",
       "    <tr>\n",
       "      <th>Size</th>\n",
       "      <td>115064.0</td>\n",
       "      <td>0.0</td>\n",
       "      <td>136497.69</td>\n",
       "      <td>140167.00</td>\n",
       "      <td>34875.00</td>\n",
       "      <td>39690.00</td>\n",
       "      <td>39910.00</td>\n",
       "      <td>140167.00</td>\n",
       "      <td>202505.00</td>\n",
       "      <td>204184.00</td>\n",
       "      <td>206302.00</td>\n",
       "      <td>219622.00</td>\n",
       "    </tr>\n",
       "    <tr>\n",
       "      <th>Temperature</th>\n",
       "      <td>115064.0</td>\n",
       "      <td>0.0</td>\n",
       "      <td>53.94</td>\n",
       "      <td>54.47</td>\n",
       "      <td>11.44</td>\n",
       "      <td>23.98</td>\n",
       "      <td>29.97</td>\n",
       "      <td>54.47</td>\n",
       "      <td>67.35</td>\n",
       "      <td>79.48</td>\n",
       "      <td>83.82</td>\n",
       "      <td>92.14</td>\n",
       "    </tr>\n",
       "    <tr>\n",
       "      <th>Fuel_Price</th>\n",
       "      <td>115064.0</td>\n",
       "      <td>0.0</td>\n",
       "      <td>3.58</td>\n",
       "      <td>3.61</td>\n",
       "      <td>2.96</td>\n",
       "      <td>3.16</td>\n",
       "      <td>3.23</td>\n",
       "      <td>3.61</td>\n",
       "      <td>3.77</td>\n",
       "      <td>3.87</td>\n",
       "      <td>3.95</td>\n",
       "      <td>4.08</td>\n",
       "    </tr>\n",
       "    <tr>\n",
       "      <th>MarkDown1</th>\n",
       "      <td>114915.0</td>\n",
       "      <td>149.0</td>\n",
       "      <td>7689.22</td>\n",
       "      <td>4842.29</td>\n",
       "      <td>20.84</td>\n",
       "      <td>189.49</td>\n",
       "      <td>457.66</td>\n",
       "      <td>4842.29</td>\n",
       "      <td>9439.14</td>\n",
       "      <td>15325.04</td>\n",
       "      <td>23140.88</td>\n",
       "      <td>65757.57</td>\n",
       "    </tr>\n",
       "    <tr>\n",
       "      <th>MarkDown2</th>\n",
       "      <td>86437.0</td>\n",
       "      <td>28627.0</td>\n",
       "      <td>3734.05</td>\n",
       "      <td>742.59</td>\n",
       "      <td>0.02</td>\n",
       "      <td>6.14</td>\n",
       "      <td>25.77</td>\n",
       "      <td>742.59</td>\n",
       "      <td>2735.67</td>\n",
       "      <td>9277.29</td>\n",
       "      <td>22671.67</td>\n",
       "      <td>42920.21</td>\n",
       "    </tr>\n",
       "    <tr>\n",
       "      <th>MarkDown3</th>\n",
       "      <td>105235.0</td>\n",
       "      <td>9829.0</td>\n",
       "      <td>2403.09</td>\n",
       "      <td>78.26</td>\n",
       "      <td>0.15</td>\n",
       "      <td>1.18</td>\n",
       "      <td>3.10</td>\n",
       "      <td>78.26</td>\n",
       "      <td>272.58</td>\n",
       "      <td>698.93</td>\n",
       "      <td>2361.57</td>\n",
       "      <td>86476.66</td>\n",
       "    </tr>\n",
       "    <tr>\n",
       "      <th>MarkDown4</th>\n",
       "      <td>102176.0</td>\n",
       "      <td>12888.0</td>\n",
       "      <td>3356.22</td>\n",
       "      <td>840.94</td>\n",
       "      <td>2.61</td>\n",
       "      <td>16.96</td>\n",
       "      <td>37.36</td>\n",
       "      <td>840.94</td>\n",
       "      <td>3096.92</td>\n",
       "      <td>7674.41</td>\n",
       "      <td>14191.01</td>\n",
       "      <td>44739.28</td>\n",
       "    </tr>\n",
       "    <tr>\n",
       "      <th>MarkDown5</th>\n",
       "      <td>115064.0</td>\n",
       "      <td>0.0</td>\n",
       "      <td>3922.68</td>\n",
       "      <td>2390.43</td>\n",
       "      <td>269.30</td>\n",
       "      <td>540.89</td>\n",
       "      <td>770.88</td>\n",
       "      <td>2390.43</td>\n",
       "      <td>4227.27</td>\n",
       "      <td>6966.34</td>\n",
       "      <td>9316.71</td>\n",
       "      <td>18599.30</td>\n",
       "    </tr>\n",
       "    <tr>\n",
       "      <th>CPI</th>\n",
       "      <td>76902.0</td>\n",
       "      <td>38162.0</td>\n",
       "      <td>176.96</td>\n",
       "      <td>192.30</td>\n",
       "      <td>131.28</td>\n",
       "      <td>131.48</td>\n",
       "      <td>132.03</td>\n",
       "      <td>192.30</td>\n",
       "      <td>223.24</td>\n",
       "      <td>225.90</td>\n",
       "      <td>227.78</td>\n",
       "      <td>228.73</td>\n",
       "    </tr>\n",
       "    <tr>\n",
       "      <th>Unemployment</th>\n",
       "      <td>76902.0</td>\n",
       "      <td>38162.0</td>\n",
       "      <td>6.87</td>\n",
       "      <td>6.81</td>\n",
       "      <td>3.88</td>\n",
       "      <td>3.93</td>\n",
       "      <td>5.05</td>\n",
       "      <td>6.81</td>\n",
       "      <td>8.04</td>\n",
       "      <td>8.93</td>\n",
       "      <td>9.91</td>\n",
       "      <td>10.20</td>\n",
       "    </tr>\n",
       "  </tbody>\n",
       "</table>\n",
       "</div>"
      ],
      "text/plain": [
       "                 COUNT        N       MEAN     MEDIAN        P1        P5  \\\n",
       "Store         115064.0      0.0      22.24      22.00      1.00      3.00   \n",
       "Dept          115064.0      0.0      44.34      37.00      1.00      4.00   \n",
       "IsHoliday     115064.0      0.0       0.00       0.00      0.00      0.00   \n",
       "Size          115064.0      0.0  136497.69  140167.00  34875.00  39690.00   \n",
       "Temperature   115064.0      0.0      53.94      54.47     11.44     23.98   \n",
       "Fuel_Price    115064.0      0.0       3.58       3.61      2.96      3.16   \n",
       "MarkDown1     114915.0    149.0    7689.22    4842.29     20.84    189.49   \n",
       "MarkDown2      86437.0  28627.0    3734.05     742.59      0.02      6.14   \n",
       "MarkDown3     105235.0   9829.0    2403.09      78.26      0.15      1.18   \n",
       "MarkDown4     102176.0  12888.0    3356.22     840.94      2.61     16.96   \n",
       "MarkDown5     115064.0      0.0    3922.68    2390.43    269.30    540.89   \n",
       "CPI            76902.0  38162.0     176.96     192.30    131.28    131.48   \n",
       "Unemployment   76902.0  38162.0       6.87       6.81      3.88      3.93   \n",
       "\n",
       "                   P10        P50        P75        P90        P95        P99  \n",
       "Store             5.00      22.00      33.00      40.00      43.00      45.00  \n",
       "Dept              7.00      37.00      74.00      92.00      95.00      98.00  \n",
       "IsHoliday         0.00       0.00       0.00       0.00       0.00       0.00  \n",
       "Size          39910.00  140167.00  202505.00  204184.00  206302.00  219622.00  \n",
       "Temperature      29.97      54.47      67.35      79.48      83.82      92.14  \n",
       "Fuel_Price        3.23       3.61       3.77       3.87       3.95       4.08  \n",
       "MarkDown1       457.66    4842.29    9439.14   15325.04   23140.88   65757.57  \n",
       "MarkDown2        25.77     742.59    2735.67    9277.29   22671.67   42920.21  \n",
       "MarkDown3         3.10      78.26     272.58     698.93    2361.57   86476.66  \n",
       "MarkDown4        37.36     840.94    3096.92    7674.41   14191.01   44739.28  \n",
       "MarkDown5       770.88    2390.43    4227.27    6966.34    9316.71   18599.30  \n",
       "CPI             132.03     192.30     223.24     225.90     227.78     228.73  \n",
       "Unemployment      5.05       6.81       8.04       8.93       9.91      10.20  "
      ]
     },
     "execution_count": 91,
     "metadata": {},
     "output_type": "execute_result"
    }
   ],
   "source": [
    "## creating a UDF to get detailed summary of the continous data\n",
    "def continous_var_summary(x):\n",
    "    return pd.Series([x.count(),x.isna().sum(),x.mean(),x.median(),x.quantile(0.01),x.quantile(0.05),x.quantile(0.1),\n",
    "                      x.quantile(0.5),x.quantile(0.75),x.quantile(0.90),x.quantile(0.95),x.quantile(0.99)],\n",
    "                     \n",
    "                      index=['COUNT','N','MEAN','MEDIAN','P1','P5','P10','P50','P75','P90','P95','P99'])\n",
    "\n",
    "continous.apply(continous_var_summary).T.round(2)"
   ]
  },
  {
   "cell_type": "markdown",
   "metadata": {},
   "source": [
    "## Outlier Treatment"
   ]
  },
  {
   "cell_type": "code",
   "execution_count": 92,
   "metadata": {},
   "outputs": [],
   "source": [
    "continous=continous.apply(lambda x:x.clip(lower=x.dropna().quantile(0.01), upper=x.quantile(0.99)))"
   ]
  },
  {
   "cell_type": "markdown",
   "metadata": {},
   "source": [
    "## Missing values treatment"
   ]
  },
  {
   "cell_type": "code",
   "execution_count": 93,
   "metadata": {},
   "outputs": [
    {
     "data": {
      "text/plain": [
       "Store           0\n",
       "Dept            0\n",
       "Date            0\n",
       "IsHoliday       0\n",
       "Type            0\n",
       "Size            0\n",
       "Temperature     0\n",
       "Fuel_Price      0\n",
       "MarkDown1       0\n",
       "MarkDown2       0\n",
       "MarkDown3       0\n",
       "MarkDown4       0\n",
       "MarkDown5       0\n",
       "CPI             0\n",
       "Unemployment    0\n",
       "dtype: int64"
      ]
     },
     "execution_count": 93,
     "metadata": {},
     "output_type": "execute_result"
    }
   ],
   "source": [
    "merge2=merge2.apply(lambda x: x.fillna(0))\n",
    "merge2.isna().sum()"
   ]
  },
  {
   "cell_type": "code",
   "execution_count": 94,
   "metadata": {},
   "outputs": [
    {
     "data": {
      "text/plain": [
       "Store           0\n",
       "Dept            0\n",
       "IsHoliday       0\n",
       "Size            0\n",
       "Temperature     0\n",
       "Fuel_Price      0\n",
       "MarkDown1       0\n",
       "MarkDown2       0\n",
       "MarkDown3       0\n",
       "MarkDown4       0\n",
       "MarkDown5       0\n",
       "CPI             0\n",
       "Unemployment    0\n",
       "dtype: int64"
      ]
     },
     "execution_count": 94,
     "metadata": {},
     "output_type": "execute_result"
    }
   ],
   "source": [
    "continous=continous.apply(lambda x: x.fillna(0))\n",
    "continous.isna().sum()"
   ]
  },
  {
   "cell_type": "code",
   "execution_count": 95,
   "metadata": {},
   "outputs": [
    {
     "data": {
      "text/plain": [
       "Type    0\n",
       "dtype: int64"
      ]
     },
     "execution_count": 95,
     "metadata": {},
     "output_type": "execute_result"
    }
   ],
   "source": [
    "categorical.isna().sum()"
   ]
  },
  {
   "cell_type": "code",
   "execution_count": 96,
   "metadata": {},
   "outputs": [
    {
     "data": {
      "text/plain": [
       "Date    0\n",
       "dtype: int64"
      ]
     },
     "execution_count": 96,
     "metadata": {},
     "output_type": "execute_result"
    }
   ],
   "source": [
    "date2.isna().sum()"
   ]
  },
  {
   "cell_type": "markdown",
   "metadata": {},
   "source": [
    "## Feature extraction"
   ]
  },
  {
   "cell_type": "code",
   "execution_count": 97,
   "metadata": {},
   "outputs": [],
   "source": [
    "date2['Day']=  pd.DatetimeIndex(date2['Date']).day\n",
    "date2['Month']= pd.DatetimeIndex(date2['Date']).month\n",
    "date2['Year']= pd.DatetimeIndex(date2['Date']).year"
   ]
  },
  {
   "cell_type": "code",
   "execution_count": 98,
   "metadata": {},
   "outputs": [],
   "source": [
    "# Making New Holiday Variable Based on Given Data.\n",
    "\n",
    "w = np.where\n",
    "n = date2['Date']\n",
    "\n",
    "date2['Super_Bowl'] = w((n == datetime(2010, 2, 12)) | (n == datetime(2011, 2, 11)) | (n == datetime(2012, 2, 10)) | (n == datetime(2013, 2, 8)), 1, 0)\n",
    "date2['Labour_Day'] = w((n == datetime(2010, 9, 10)) | (n == datetime(2011, 9, 9)) | (n == datetime(2012, 9, 7)) | (n == datetime(2013, 9, 6)), 1, 0)\n",
    "date2['Thanksgiving'] = w((n == datetime(2010, 11, 26)) | (n == datetime(2011, 11, 25)) | (n == datetime(2012, 11, 23)) | (n == datetime(2013, 11, 29)), 1, 0)\n",
    "date2['Christmas'] = w((n == datetime(2010, 12, 31)) | (n == datetime(2011, 12, 30)) | (n == datetime(2012, 12, 28)) | (n == datetime(2013, 12, 27)), 1, 0)"
   ]
  },
  {
   "cell_type": "markdown",
   "metadata": {},
   "source": [
    "## Dummy Variables"
   ]
  },
  {
   "cell_type": "code",
   "execution_count": 99,
   "metadata": {},
   "outputs": [],
   "source": [
    "s_1=continous[['Store','Dept']]\n",
    "s_2=date2[['Day','Month','Year']]"
   ]
  },
  {
   "cell_type": "code",
   "execution_count": 100,
   "metadata": {},
   "outputs": [],
   "source": [
    "def create_dummies(df,colname):\n",
    "    col_dummies=pd.get_dummies(df[colname],prefix=colname, drop_first=True)\n",
    "    df=pd.concat([df,col_dummies], axis=1)\n",
    "    df.drop(colname, axis=1, inplace=True)\n",
    "    return df"
   ]
  },
  {
   "cell_type": "code",
   "execution_count": 101,
   "metadata": {},
   "outputs": [],
   "source": [
    "for c_feature in s_1:\n",
    "    s_1[c_feature]=s_1[c_feature].astype('category')\n",
    "    s_1=create_dummies(s_1,c_feature)"
   ]
  },
  {
   "cell_type": "code",
   "execution_count": 102,
   "metadata": {},
   "outputs": [
    {
     "data": {
      "text/plain": [
       "(115064, 123)"
      ]
     },
     "execution_count": 102,
     "metadata": {},
     "output_type": "execute_result"
    }
   ],
   "source": [
    "s_1.shape"
   ]
  },
  {
   "cell_type": "code",
   "execution_count": 103,
   "metadata": {},
   "outputs": [
    {
     "data": {
      "text/plain": [
       "Index(['Store_2', 'Store_3', 'Store_4', 'Store_5', 'Store_6', 'Store_7',\n",
       "       'Store_8', 'Store_9', 'Store_10', 'Store_11',\n",
       "       ...\n",
       "       'Dept_87', 'Dept_90', 'Dept_91', 'Dept_92', 'Dept_93', 'Dept_94',\n",
       "       'Dept_95', 'Dept_96', 'Dept_97', 'Dept_98'],\n",
       "      dtype='object', length=123)"
      ]
     },
     "execution_count": 103,
     "metadata": {},
     "output_type": "execute_result"
    }
   ],
   "source": [
    "s_1.columns"
   ]
  },
  {
   "cell_type": "code",
   "execution_count": 104,
   "metadata": {},
   "outputs": [],
   "source": [
    "for c_feature in s_2:\n",
    "    s_2[c_feature]=s_2[c_feature].astype('category')\n",
    "    s_2=create_dummies(s_2,c_feature)"
   ]
  },
  {
   "cell_type": "code",
   "execution_count": 105,
   "metadata": {},
   "outputs": [
    {
     "data": {
      "text/plain": [
       "(115064, 35)"
      ]
     },
     "execution_count": 105,
     "metadata": {},
     "output_type": "execute_result"
    }
   ],
   "source": [
    "s_2.shape"
   ]
  },
  {
   "cell_type": "code",
   "execution_count": 106,
   "metadata": {},
   "outputs": [
    {
     "data": {
      "text/plain": [
       "Index(['Day_2', 'Day_3', 'Day_4', 'Day_5', 'Day_7', 'Day_8', 'Day_9', 'Day_10',\n",
       "       'Day_11', 'Day_12', 'Day_14', 'Day_15', 'Day_16', 'Day_17', 'Day_18',\n",
       "       'Day_19', 'Day_21', 'Day_22', 'Day_23', 'Day_24', 'Day_25', 'Day_26',\n",
       "       'Day_28', 'Day_29', 'Day_30', 'Day_31', 'Month_2', 'Month_3', 'Month_4',\n",
       "       'Month_5', 'Month_6', 'Month_7', 'Month_11', 'Month_12', 'Year_2013'],\n",
       "      dtype='object')"
      ]
     },
     "execution_count": 106,
     "metadata": {},
     "output_type": "execute_result"
    }
   ],
   "source": [
    "s_2.columns"
   ]
  },
  {
   "cell_type": "code",
   "execution_count": 107,
   "metadata": {},
   "outputs": [],
   "source": [
    "for c_feature in categorical:\n",
    "    categorical[c_feature]=categorical[c_feature].astype('category')\n",
    "    categorical=create_dummies(categorical,c_feature)"
   ]
  },
  {
   "cell_type": "code",
   "execution_count": 108,
   "metadata": {},
   "outputs": [
    {
     "data": {
      "text/plain": [
       "(115064, 2)"
      ]
     },
     "execution_count": 108,
     "metadata": {},
     "output_type": "execute_result"
    }
   ],
   "source": [
    "categorical.shape"
   ]
  },
  {
   "cell_type": "code",
   "execution_count": 109,
   "metadata": {},
   "outputs": [
    {
     "data": {
      "text/plain": [
       "Index(['Type_B', 'Type_C'], dtype='object')"
      ]
     },
     "execution_count": 109,
     "metadata": {},
     "output_type": "execute_result"
    }
   ],
   "source": [
    "categorical.columns"
   ]
  },
  {
   "cell_type": "code",
   "execution_count": 110,
   "metadata": {},
   "outputs": [],
   "source": [
    "continous.drop(['Store','Dept'], axis=1, inplace=True)"
   ]
  },
  {
   "cell_type": "code",
   "execution_count": 111,
   "metadata": {},
   "outputs": [],
   "source": [
    "date2.drop(['Day','Month','Year'], axis=1, inplace=True)"
   ]
  },
  {
   "cell_type": "code",
   "execution_count": 112,
   "metadata": {},
   "outputs": [
    {
     "data": {
      "text/plain": [
       "(115064, 5)"
      ]
     },
     "execution_count": 112,
     "metadata": {},
     "output_type": "execute_result"
    }
   ],
   "source": [
    "date2.shape"
   ]
  },
  {
   "cell_type": "code",
   "execution_count": 113,
   "metadata": {},
   "outputs": [
    {
     "data": {
      "text/plain": [
       "(115064, 2)"
      ]
     },
     "execution_count": 113,
     "metadata": {},
     "output_type": "execute_result"
    }
   ],
   "source": [
    "categorical.shape"
   ]
  },
  {
   "cell_type": "code",
   "execution_count": 114,
   "metadata": {},
   "outputs": [
    {
     "data": {
      "text/plain": [
       "(115064, 11)"
      ]
     },
     "execution_count": 114,
     "metadata": {},
     "output_type": "execute_result"
    }
   ],
   "source": [
    "continous.shape"
   ]
  },
  {
   "cell_type": "code",
   "execution_count": 115,
   "metadata": {},
   "outputs": [
    {
     "data": {
      "text/plain": [
       "(115064, 123)"
      ]
     },
     "execution_count": 115,
     "metadata": {},
     "output_type": "execute_result"
    }
   ],
   "source": [
    "s_1.shape"
   ]
  },
  {
   "cell_type": "code",
   "execution_count": 116,
   "metadata": {},
   "outputs": [
    {
     "data": {
      "text/plain": [
       "(115064, 35)"
      ]
     },
     "execution_count": 116,
     "metadata": {},
     "output_type": "execute_result"
    }
   ],
   "source": [
    "s_2.shape"
   ]
  },
  {
   "cell_type": "markdown",
   "metadata": {},
   "source": [
    "## Now concatenate all the dataframe including dummy variables"
   ]
  },
  {
   "cell_type": "code",
   "execution_count": 117,
   "metadata": {},
   "outputs": [
    {
     "data": {
      "text/plain": [
       "Type_B    0\n",
       "Type_C    0\n",
       "dtype: int64"
      ]
     },
     "execution_count": 117,
     "metadata": {},
     "output_type": "execute_result"
    }
   ],
   "source": [
    "categorical.isna().sum()"
   ]
  },
  {
   "cell_type": "code",
   "execution_count": 121,
   "metadata": {},
   "outputs": [
    {
     "data": {
      "text/plain": [
       "0"
      ]
     },
     "execution_count": 121,
     "metadata": {},
     "output_type": "execute_result"
    }
   ],
   "source": [
    "continous.isna().sum().sum()"
   ]
  },
  {
   "cell_type": "code",
   "execution_count": 120,
   "metadata": {},
   "outputs": [
    {
     "data": {
      "text/plain": [
       "0"
      ]
     },
     "execution_count": 120,
     "metadata": {},
     "output_type": "execute_result"
    }
   ],
   "source": [
    "s_1.isna().sum().sum()"
   ]
  },
  {
   "cell_type": "code",
   "execution_count": 123,
   "metadata": {},
   "outputs": [
    {
     "data": {
      "text/plain": [
       "0"
      ]
     },
     "execution_count": 123,
     "metadata": {},
     "output_type": "execute_result"
    }
   ],
   "source": [
    "date2.isna().sum().sum()"
   ]
  },
  {
   "cell_type": "code",
   "execution_count": 124,
   "metadata": {},
   "outputs": [
    {
     "data": {
      "text/plain": [
       "(115064, 176)"
      ]
     },
     "execution_count": 124,
     "metadata": {},
     "output_type": "execute_result"
    }
   ],
   "source": [
    "new_merge2=pd.concat([categorical,continous,s_1,date2,s_2], axis=1)\n",
    "new_merge2.shape"
   ]
  },
  {
   "cell_type": "code",
   "execution_count": 125,
   "metadata": {},
   "outputs": [
    {
     "name": "stdout",
     "output_type": "stream",
     "text": [
      "<class 'pandas.core.frame.DataFrame'>\n",
      "Int64Index: 115064 entries, 0 to 115063\n",
      "Columns: 176 entries, Type_B to Year_2013\n",
      "dtypes: datetime64[ns](1), float64(9), int32(5), int64(1), uint8(160)\n",
      "memory usage: 30.3 MB\n"
     ]
    }
   ],
   "source": [
    "new_merge2.info()"
   ]
  },
  {
   "cell_type": "markdown",
   "metadata": {},
   "source": [
    "## Predicting the weekly sales on testing data"
   ]
  },
  {
   "cell_type": "code",
   "execution_count": 133,
   "metadata": {},
   "outputs": [
    {
     "data": {
      "text/plain": [
       "0     7790.277349\n",
       "1    58223.147549\n",
       "2     7790.277349\n",
       "3    36648.459130\n",
       "4     7790.277349\n",
       "Name: Weekly_Sales, dtype: float64"
      ]
     },
     "execution_count": 133,
     "metadata": {},
     "output_type": "execute_result"
    }
   ],
   "source": [
    "new_merge2['Weekly_Sales']=np.exp(lm2.predict(new_merge2))\n",
    "new_merge2.Weekly_Sales.head()"
   ]
  },
  {
   "cell_type": "markdown",
   "metadata": {},
   "source": [
    "# Consolidate data at Store, Department and Week level"
   ]
  },
  {
   "cell_type": "code",
   "execution_count": 141,
   "metadata": {},
   "outputs": [],
   "source": [
    "new_merge2['Store']=t['Store']\n",
    "new_merge2['Dept']=t['Dept']"
   ]
  },
  {
   "cell_type": "code",
   "execution_count": 143,
   "metadata": {},
   "outputs": [
    {
     "data": {
      "text/plain": [
       "(115064, 179)"
      ]
     },
     "execution_count": 143,
     "metadata": {},
     "output_type": "execute_result"
    }
   ],
   "source": [
    "new_merge2.shape"
   ]
  },
  {
   "cell_type": "code",
   "execution_count": 148,
   "metadata": {},
   "outputs": [
    {
     "data": {
      "text/plain": [
       "(115064, 3)"
      ]
     },
     "execution_count": 148,
     "metadata": {},
     "output_type": "execute_result"
    }
   ],
   "source": [
    "final=pd.concat([new_merge2.Store,new_merge2.Dept,new_merge2.Weekly_Sales], axis=1)\n",
    "final.shape"
   ]
  },
  {
   "cell_type": "code",
   "execution_count": 149,
   "metadata": {},
   "outputs": [
    {
     "data": {
      "text/plain": [
       "0"
      ]
     },
     "execution_count": 149,
     "metadata": {},
     "output_type": "execute_result"
    }
   ],
   "source": [
    "final.isna().sum().sum()"
   ]
  },
  {
   "cell_type": "code",
   "execution_count": 162,
   "metadata": {},
   "outputs": [
    {
     "data": {
      "text/plain": [
       "0    1_1\n",
       "1    1_1\n",
       "2    1_1\n",
       "3    1_1\n",
       "4    1_1\n",
       "dtype: object"
      ]
     },
     "execution_count": 162,
     "metadata": {},
     "output_type": "execute_result"
    }
   ],
   "source": [
    "ID=final.Store.astype(str) + '_' + final.Dept.astype(str)\n",
    "ID.head()"
   ]
  },
  {
   "cell_type": "code",
   "execution_count": 164,
   "metadata": {},
   "outputs": [
    {
     "data": {
      "text/html": [
       "<div>\n",
       "<style scoped>\n",
       "    .dataframe tbody tr th:only-of-type {\n",
       "        vertical-align: middle;\n",
       "    }\n",
       "\n",
       "    .dataframe tbody tr th {\n",
       "        vertical-align: top;\n",
       "    }\n",
       "\n",
       "    .dataframe thead th {\n",
       "        text-align: right;\n",
       "    }\n",
       "</style>\n",
       "<table border=\"1\" class=\"dataframe\">\n",
       "  <thead>\n",
       "    <tr style=\"text-align: right;\">\n",
       "      <th></th>\n",
       "      <th>ID</th>\n",
       "      <th>Weekly_Sales</th>\n",
       "    </tr>\n",
       "  </thead>\n",
       "  <tbody>\n",
       "    <tr>\n",
       "      <th>0</th>\n",
       "      <td>1_1</td>\n",
       "      <td>7790.277349</td>\n",
       "    </tr>\n",
       "    <tr>\n",
       "      <th>1</th>\n",
       "      <td>1_1</td>\n",
       "      <td>58223.147549</td>\n",
       "    </tr>\n",
       "    <tr>\n",
       "      <th>2</th>\n",
       "      <td>1_1</td>\n",
       "      <td>7790.277349</td>\n",
       "    </tr>\n",
       "    <tr>\n",
       "      <th>3</th>\n",
       "      <td>1_1</td>\n",
       "      <td>36648.459130</td>\n",
       "    </tr>\n",
       "    <tr>\n",
       "      <th>4</th>\n",
       "      <td>1_1</td>\n",
       "      <td>7790.277349</td>\n",
       "    </tr>\n",
       "  </tbody>\n",
       "</table>\n",
       "</div>"
      ],
      "text/plain": [
       "    ID  Weekly_Sales\n",
       "0  1_1   7790.277349\n",
       "1  1_1  58223.147549\n",
       "2  1_1   7790.277349\n",
       "3  1_1  36648.459130\n",
       "4  1_1   7790.277349"
      ]
     },
     "execution_count": 164,
     "metadata": {},
     "output_type": "execute_result"
    }
   ],
   "source": [
    "predicted_Sales=pd.concat([ID,final.Weekly_Sales], axis=1)\n",
    "predicted_Sales.columns=['ID','Weekly_Sales']\n",
    "predicted_Sales.head()"
   ]
  },
  {
   "cell_type": "markdown",
   "metadata": {},
   "source": [
    "## We have predicted the sales"
   ]
  }
 ],
 "metadata": {
  "kernelspec": {
   "display_name": "Python 3",
   "language": "python",
   "name": "python3"
  },
  "language_info": {
   "codemirror_mode": {
    "name": "ipython",
    "version": 3
   },
   "file_extension": ".py",
   "mimetype": "text/x-python",
   "name": "python",
   "nbconvert_exporter": "python",
   "pygments_lexer": "ipython3",
   "version": "3.7.6"
  }
 },
 "nbformat": 4,
 "nbformat_minor": 4
}
